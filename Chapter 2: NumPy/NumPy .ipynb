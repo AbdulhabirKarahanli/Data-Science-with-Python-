{
 "cells": [
  {
   "cell_type": "markdown",
   "id": "008ba7f3",
   "metadata": {},
   "source": [
    "## Chapter 2 : NumPy\n",
    "\n",
    "### Overview: \n",
    "    2.1 NumPy: Numerical Python\n",
    "    2.2 Array indexing\n",
    "    2.3 Array slicing\n",
    "    2.4 NumPy Universal Functions\n",
    "    \n",
    "### 2.1 NumPy : Numerical Python\n",
    "    ▪ NumPy (numerical python) is a specialized package for handling numerical arrays\n",
    "    ▪ builds (together with Pandas) the core of almost all data science tools"
   ]
  },
  {
   "cell_type": "code",
   "execution_count": 1,
   "id": "c152e7f1",
   "metadata": {},
   "outputs": [],
   "source": [
    "import numpy as np"
   ]
  },
  {
   "cell_type": "code",
   "execution_count": 2,
   "id": "b64051e8",
   "metadata": {},
   "outputs": [
    {
     "data": {
      "text/plain": [
       "'1.20.1'"
      ]
     },
     "execution_count": 2,
     "metadata": {},
     "output_type": "execute_result"
    }
   ],
   "source": [
    "np.__version__"
   ]
  },
  {
   "cell_type": "code",
   "execution_count": 6,
   "id": "8dec0131",
   "metadata": {},
   "outputs": [
    {
     "data": {
      "text/plain": [
       "[bool, str, float, int]"
      ]
     },
     "execution_count": 6,
     "metadata": {},
     "output_type": "execute_result"
    }
   ],
   "source": [
    "# Python variables vs. NumPy arrays: \n",
    "\n",
    "    # ▪ Python variables are more than just their value\n",
    "        #→ contain extra information about the type of the value\n",
    "        \n",
    "# Python lists can hold any kind of data types.       \n",
    "        \n",
    "L = [True, \"2\", 3.0, 4]\n",
    "\n",
    "# lets check the type of items in L \n",
    "\n",
    "[type(item) for item in L]"
   ]
  },
  {
   "cell_type": "code",
   "execution_count": 7,
   "id": "1035d6ac",
   "metadata": {},
   "outputs": [
    {
     "data": {
      "text/plain": [
       "array([1, 2, 3, 4])"
      ]
     },
     "execution_count": 7,
     "metadata": {},
     "output_type": "execute_result"
    }
   ],
   "source": [
    "# Creating NumPy arrays: \n",
    "\n",
    "#    ▪ NumPy arrays can be created from (existing) lists\n",
    "#      → Syntax: np.array([<list>]) (with optional dtype (data type) parameter)\n",
    "#    ▪ arrays can be multidimensional (i.e., nested lists / list of lists)\n",
    "\n",
    "\n",
    "np.array([1, 2, 3, 4])"
   ]
  },
  {
   "cell_type": "code",
   "execution_count": 8,
   "id": "74f3c9d3",
   "metadata": {},
   "outputs": [
    {
     "data": {
      "text/plain": [
       "array([1., 2., 3., 4.])"
      ]
     },
     "execution_count": 8,
     "metadata": {},
     "output_type": "execute_result"
    }
   ],
   "source": [
    "np.array([1.0, 2, 3, 4]) # it can only take one type of data, so it turned everthing into floating data. "
   ]
  },
  {
   "cell_type": "code",
   "execution_count": 9,
   "id": "6a52b723",
   "metadata": {},
   "outputs": [
    {
     "data": {
      "text/plain": [
       "array([1., 2., 3., 4.])"
      ]
     },
     "execution_count": 9,
     "metadata": {},
     "output_type": "execute_result"
    }
   ],
   "source": [
    "np.array([1, 2, 3, 4], dtype='float') # we can specify the data types. "
   ]
  },
  {
   "cell_type": "code",
   "execution_count": 14,
   "id": "1820d9d6",
   "metadata": {},
   "outputs": [
    {
     "data": {
      "text/plain": [
       "array([[1, 2, 3],\n",
       "       [4, 5, 6],\n",
       "       [7, 8, 9]])"
      ]
     },
     "execution_count": 14,
     "metadata": {},
     "output_type": "execute_result"
    }
   ],
   "source": [
    "# nested lists result in multi-dimensional arrays: \n",
    "np.array([[1,2,3], [4,5,6], [7,8,9]])"
   ]
  },
  {
   "cell_type": "markdown",
   "id": "4456ddc1",
   "metadata": {},
   "source": [
    "### Routines to create arrays from scratch (selection)\n",
    "\n",
    "     Command                    Meaning\n",
    "    np.zeros                  array of zeros \n",
    "    np.ones                   array of ones\n",
    "    np.full                   array of arbitrary value \n",
    "    np.arange                 linear sequence\n",
    "    np.linspace               evenly spaced array\n",
    "    np.random.random          uniformly distributed random values\n",
    "    np.random.normal          normally distributed random values\n",
    "    np.random.randint         random integer values"
   ]
  },
  {
   "cell_type": "markdown",
   "id": "9f93cf92",
   "metadata": {},
   "source": [
    "## Examples: "
   ]
  },
  {
   "cell_type": "code",
   "execution_count": 17,
   "id": "43ec51cd",
   "metadata": {},
   "outputs": [
    {
     "data": {
      "text/plain": [
       "array([[1., 1., 1.],\n",
       "       [1., 1., 1.]])"
      ]
     },
     "execution_count": 17,
     "metadata": {},
     "output_type": "execute_result"
    }
   ],
   "source": [
    "# 2x3 array filled with ones\n",
    "\n",
    "np.ones((2,3))  # two rows and three columns"
   ]
  },
  {
   "cell_type": "code",
   "execution_count": 18,
   "id": "5a40cba0",
   "metadata": {},
   "outputs": [
    {
     "data": {
      "text/plain": [
       "array([0.  , 0.25, 0.5 , 0.75, 1.  ])"
      ]
     },
     "execution_count": 18,
     "metadata": {},
     "output_type": "execute_result"
    }
   ],
   "source": [
    "# Create an array of five values evenly spaced between 0 and 1\n",
    "\n",
    "np.linspace(0, 1, 5) # linear space btw 0 and 1 with 5 values. "
   ]
  },
  {
   "cell_type": "code",
   "execution_count": 20,
   "id": "7fab0a25",
   "metadata": {},
   "outputs": [
    {
     "data": {
      "text/plain": [
       "array([ 0,  2,  4,  6,  8, 10, 12, 14, 16, 18])"
      ]
     },
     "execution_count": 20,
     "metadata": {},
     "output_type": "execute_result"
    }
   ],
   "source": [
    "# Array filled with a linear sequence, starting at 0, ending at 20, stepping by 2\n",
    "np.arange(0, 20, 2) # linear sequence btw 0 and 20 by 2 stepping. It does not include 20"
   ]
  },
  {
   "cell_type": "code",
   "execution_count": 22,
   "id": "9316a87b",
   "metadata": {},
   "outputs": [
    {
     "data": {
      "text/plain": [
       "array([[0.93369614, 0.12061934],\n",
       "       [0.77391497, 0.69068591]])"
      ]
     },
     "execution_count": 22,
     "metadata": {},
     "output_type": "execute_result"
    }
   ],
   "source": [
    "# 2x2 array of uniformly distributed random values between 0 and 1\n",
    "np.random.random((2, 2)) # (2,2) tuples stand for two-by-two dimensional array"
   ]
  },
  {
   "cell_type": "code",
   "execution_count": 23,
   "id": "89be17be",
   "metadata": {},
   "outputs": [
    {
     "data": {
      "text/plain": [
       "array([[6, 6],\n",
       "       [3, 4]])"
      ]
     },
     "execution_count": 23,
     "metadata": {},
     "output_type": "execute_result"
    }
   ],
   "source": [
    "# 2x2 array of random integers in the interval [0, 10), not including 10\n",
    "np.random.randint(0, 10, (2, 2))"
   ]
  },
  {
   "cell_type": "markdown",
   "id": "c9bfe38b",
   "metadata": {},
   "source": [
    "### Exercise:\n",
    "\n",
    "    In the following table, you see some facts about the Beatles.\n",
    "        → Create a numpy array that contains the first name of each Beatle (call it firstname). \n",
    "        → Create a numpy array that contains the last name of each Beatle (call it lastname). \n",
    "        → Bonus: Create a numpy array that contains the information in the died column.\n",
    " "
   ]
  },
  {
   "cell_type": "code",
   "execution_count": 26,
   "id": "661f62a5",
   "metadata": {},
   "outputs": [
    {
     "data": {
      "text/plain": [
       "array(['John', 'Paul', 'George', 'Ringo'], dtype='<U6')"
      ]
     },
     "execution_count": 26,
     "metadata": {},
     "output_type": "execute_result"
    }
   ],
   "source": [
    "firstname = np.array([\"John\", \"Paul\", \"George\", \"Ringo\"])\n",
    "firstname"
   ]
  },
  {
   "cell_type": "code",
   "execution_count": 28,
   "id": "ac8cd638",
   "metadata": {},
   "outputs": [
    {
     "data": {
      "text/plain": [
       "array(['Lennon', 'McCartney', 'Harrison', 'Starr'], dtype='<U9')"
      ]
     },
     "execution_count": 28,
     "metadata": {},
     "output_type": "execute_result"
    }
   ],
   "source": [
    "lastname = np.array([\"Lennon\", \"McCartney\", \"Harrison\", \"Starr\"])\n",
    "lastname"
   ]
  },
  {
   "cell_type": "code",
   "execution_count": 31,
   "id": "2751a925",
   "metadata": {},
   "outputs": [
    {
     "data": {
      "text/plain": [
       "array(['1980', 'alive', '2001', 'alive'], dtype='<U21')"
      ]
     },
     "execution_count": 31,
     "metadata": {},
     "output_type": "execute_result"
    }
   ],
   "source": [
    "died = np.array([1980, \"alive\", 2001, \"alive\"])\n",
    "died\n",
    "\n",
    "# exercise is done!"
   ]
  },
  {
   "cell_type": "markdown",
   "id": "c2aaa4aa",
   "metadata": {},
   "source": [
    "### Basic array manipulations include ...\n",
    "    ▪ Attributes of arrays: Determining the size, shape, memory consumption, and data types of arrays\n",
    "    ▪ Indexing of arrays: Getting and setting the value of individual array elements \n",
    "    ▪ Slicing of arrays : Getting and setting smaller subarrays within a larger array\n",
    "    \n",
    "#### Most Useful NumPy Attributes: \n",
    "    ▪ ndim : number of dimensions\n",
    "    ▪ shape : size of each dimension\n",
    "    ▪ size : the total size of the array (i. e., number of elements)\n",
    "    ▪ dtype : data type"
   ]
  },
  {
   "cell_type": "code",
   "execution_count": 67,
   "id": "63e88d93",
   "metadata": {},
   "outputs": [
    {
     "data": {
      "text/plain": [
       "(array([6, 3, 7, 4, 6, 9]),\n",
       " array([[2, 6, 7, 4],\n",
       "        [3, 7, 7, 2],\n",
       "        [5, 4, 1, 7]]),\n",
       " array([[[5, 1, 4, 0, 9],\n",
       "         [5, 8, 0, 9, 2],\n",
       "         [6, 3, 8, 2, 4],\n",
       "         [2, 6, 4, 8, 6]],\n",
       " \n",
       "        [[1, 3, 8, 1, 9],\n",
       "         [8, 9, 4, 1, 3],\n",
       "         [6, 7, 2, 0, 3],\n",
       "         [1, 7, 3, 1, 5]],\n",
       " \n",
       "        [[5, 9, 3, 5, 1],\n",
       "         [9, 1, 9, 3, 7],\n",
       "         [6, 8, 7, 4, 1],\n",
       "         [4, 7, 9, 8, 8]]]))"
      ]
     },
     "execution_count": 67,
     "metadata": {},
     "output_type": "execute_result"
    }
   ],
   "source": [
    "np.random.seed(42)  # seed for the reproducibility \n",
    "\n",
    "x1 = np.random.randint(10, size=6) # 1D array\n",
    "x2 = np.random.randint(10, size=(3,4)) # 2D array\n",
    "x3 = np.random.randint(10, size=(3,4,5)) # 3D array with 4x5 random integers each\n",
    "x1, x2, x3"
   ]
  },
  {
   "cell_type": "code",
   "execution_count": 45,
   "id": "c0937e0b",
   "metadata": {},
   "outputs": [
    {
     "name": "stdout",
     "output_type": "stream",
     "text": [
      "x3 ndim:  3\n",
      "x3 shape:  (3, 4, 5)\n",
      "x3 size:  60\n",
      "x3 size:  int64\n"
     ]
    }
   ],
   "source": [
    "# to learn the exact dimenstions of an array with a proper answer (x3.ndim is enough normally) we can do: \n",
    "\n",
    "print(\"x3 ndim: \", x3.ndim)\n",
    "print(\"x3 shape: \", x3.shape)\n",
    "print(\"x3 size: \", x3.size)\n",
    "print(\"x3 size: \", x3.dtype)"
   ]
  },
  {
   "cell_type": "markdown",
   "id": "496ce52e",
   "metadata": {},
   "source": [
    "### 2.2: Array Indexing\n",
    "\n",
    "    Indexing: Accessing single elements in arrays\n",
    "        ▪ works like Python’s standard list indexing (Python is zero-indexed)\n",
    "        ▪ specify desired index in square brackets (e. g., x[1] )\n",
    "            → in multidimensional arrays, use comma-separated tuple of values (e. g., x[1,1] )"
   ]
  },
  {
   "cell_type": "code",
   "execution_count": 68,
   "id": "ce3ac50a",
   "metadata": {},
   "outputs": [
    {
     "data": {
      "text/plain": [
       "array([6, 3, 7, 4, 6, 9])"
      ]
     },
     "execution_count": 68,
     "metadata": {},
     "output_type": "execute_result"
    }
   ],
   "source": [
    "x1"
   ]
  },
  {
   "cell_type": "code",
   "execution_count": 48,
   "id": "34f1f86a",
   "metadata": {},
   "outputs": [
    {
     "data": {
      "text/plain": [
       "6"
      ]
     },
     "execution_count": 48,
     "metadata": {},
     "output_type": "execute_result"
    }
   ],
   "source": [
    "x1[0] # first element (remember zero indexing!)"
   ]
  },
  {
   "cell_type": "code",
   "execution_count": 52,
   "id": "687d4238",
   "metadata": {},
   "outputs": [
    {
     "data": {
      "text/plain": [
       "(9, 6, 4)"
      ]
     },
     "execution_count": 52,
     "metadata": {},
     "output_type": "execute_result"
    }
   ],
   "source": [
    "x1[-1], x1[-2], x1[-3] # index from end of array using negative values"
   ]
  },
  {
   "cell_type": "code",
   "execution_count": 53,
   "id": "6b12eda0",
   "metadata": {},
   "outputs": [
    {
     "data": {
      "text/plain": [
       "array([[2, 6, 7, 4],\n",
       "       [3, 7, 7, 2],\n",
       "       [5, 4, 1, 7]])"
      ]
     },
     "execution_count": 53,
     "metadata": {},
     "output_type": "execute_result"
    }
   ],
   "source": [
    "x2"
   ]
  },
  {
   "cell_type": "code",
   "execution_count": 56,
   "id": "ed543d5c",
   "metadata": {},
   "outputs": [
    {
     "data": {
      "text/plain": [
       "2"
      ]
     },
     "execution_count": 56,
     "metadata": {},
     "output_type": "execute_result"
    }
   ],
   "source": [
    "x2[0,0] # multi-dimensional indexing. It is for first row and first column element"
   ]
  },
  {
   "cell_type": "code",
   "execution_count": 57,
   "id": "4619ff27",
   "metadata": {},
   "outputs": [
    {
     "data": {
      "text/plain": [
       "1"
      ]
     },
     "execution_count": 57,
     "metadata": {},
     "output_type": "execute_result"
    }
   ],
   "source": [
    "x2[2, -2] # third row and second element from last"
   ]
  },
  {
   "cell_type": "code",
   "execution_count": 71,
   "id": "0ca1e60b",
   "metadata": {},
   "outputs": [
    {
     "data": {
      "text/plain": [
       "array([3, 3, 7, 4, 6, 9])"
      ]
     },
     "execution_count": 71,
     "metadata": {},
     "output_type": "execute_result"
    }
   ],
   "source": [
    "## Ceveat when modifing values: \n",
    "    # NumPy arrays have a fixed type (unlike Python lists), so sometimes, values can be sliently truncated!\n",
    "\n",
    "x1[0] = 3.1415   # this will be truncated! Because this list is defined as integers. \n",
    "x1"
   ]
  },
  {
   "cell_type": "markdown",
   "id": "dbd3040b",
   "metadata": {},
   "source": [
    "### 2.3 : Array slicing\n",
    "\n",
    "\n",
    "    Slicing: Accessing parts of on array\n",
    "        ▪ to access whole parts of arrays (i. e., subarrays) use the colon ( : ) character \n",
    "        ▪ Syntax: x[start:stop:step]"
   ]
  },
  {
   "cell_type": "code",
   "execution_count": 74,
   "id": "ff522593",
   "metadata": {},
   "outputs": [
    {
     "data": {
      "text/plain": [
       "array([0, 1, 2, 3, 4, 5, 6, 7, 8, 9])"
      ]
     },
     "execution_count": 74,
     "metadata": {},
     "output_type": "execute_result"
    }
   ],
   "source": [
    "x = np.arange(10)\n",
    "x"
   ]
  },
  {
   "cell_type": "code",
   "execution_count": 76,
   "id": "c7567549",
   "metadata": {},
   "outputs": [
    {
     "data": {
      "text/plain": [
       "array([0, 1, 2, 3, 4])"
      ]
     },
     "execution_count": 76,
     "metadata": {},
     "output_type": "execute_result"
    }
   ],
   "source": [
    "x[0:5] # x[:5] does the same thing"
   ]
  },
  {
   "cell_type": "code",
   "execution_count": 78,
   "id": "b0f8fed6",
   "metadata": {},
   "outputs": [
    {
     "data": {
      "text/plain": [
       "array([0, 1, 2, 3, 4])"
      ]
     },
     "execution_count": 78,
     "metadata": {},
     "output_type": "execute_result"
    }
   ],
   "source": [
    "x[:5] # first five elements "
   ]
  },
  {
   "cell_type": "code",
   "execution_count": 79,
   "id": "b18558eb",
   "metadata": {},
   "outputs": [
    {
     "data": {
      "text/plain": [
       "array([5, 6, 7, 8, 9])"
      ]
     },
     "execution_count": 79,
     "metadata": {},
     "output_type": "execute_result"
    }
   ],
   "source": [
    "x[5:] # all elements after index 5"
   ]
  },
  {
   "cell_type": "code",
   "execution_count": 80,
   "id": "d2957028",
   "metadata": {},
   "outputs": [
    {
     "data": {
      "text/plain": [
       "array([4, 5, 6])"
      ]
     },
     "execution_count": 80,
     "metadata": {},
     "output_type": "execute_result"
    }
   ],
   "source": [
    "x[4:7]  # middle subarray"
   ]
  },
  {
   "cell_type": "code",
   "execution_count": 81,
   "id": "480a4d02",
   "metadata": {},
   "outputs": [
    {
     "data": {
      "text/plain": [
       "array([0, 2, 4, 6, 8])"
      ]
     },
     "execution_count": 81,
     "metadata": {},
     "output_type": "execute_result"
    }
   ],
   "source": [
    "x[::2] # every other element with 2 stepping"
   ]
  },
  {
   "cell_type": "code",
   "execution_count": 82,
   "id": "d1fee4ab",
   "metadata": {},
   "outputs": [
    {
     "data": {
      "text/plain": [
       "array([9, 8, 7, 6, 5, 4, 3, 2, 1, 0])"
      ]
     },
     "execution_count": 82,
     "metadata": {},
     "output_type": "execute_result"
    }
   ],
   "source": [
    "x[::-1] # reversed array"
   ]
  },
  {
   "cell_type": "code",
   "execution_count": 83,
   "id": "cc93a288",
   "metadata": {},
   "outputs": [
    {
     "data": {
      "text/plain": [
       "array([[2, 6, 7, 4],\n",
       "       [3, 7, 7, 2],\n",
       "       [5, 4, 1, 7]])"
      ]
     },
     "execution_count": 83,
     "metadata": {},
     "output_type": "execute_result"
    }
   ],
   "source": [
    "x2"
   ]
  },
  {
   "cell_type": "code",
   "execution_count": 84,
   "id": "b347ebd8",
   "metadata": {},
   "outputs": [
    {
     "data": {
      "text/plain": [
       "array([[2, 6, 7],\n",
       "       [3, 7, 7]])"
      ]
     },
     "execution_count": 84,
     "metadata": {},
     "output_type": "execute_result"
    }
   ],
   "source": [
    "x2[:2, :3] # two rows, three columns"
   ]
  },
  {
   "cell_type": "code",
   "execution_count": 85,
   "id": "6a94d183",
   "metadata": {},
   "outputs": [
    {
     "data": {
      "text/plain": [
       "array([[2, 7],\n",
       "       [3, 7],\n",
       "       [5, 1]])"
      ]
     },
     "execution_count": 85,
     "metadata": {},
     "output_type": "execute_result"
    }
   ],
   "source": [
    "x2[:3, ::2] # all rows, every other column"
   ]
  },
  {
   "cell_type": "markdown",
   "id": "ef571c32",
   "metadata": {},
   "source": [
    "#### Indexing and slicing combined:"
   ]
  },
  {
   "cell_type": "code",
   "execution_count": 86,
   "id": "c1e7774e",
   "metadata": {},
   "outputs": [
    {
     "data": {
      "text/plain": [
       "array([[2, 6, 7, 4],\n",
       "       [3, 7, 7, 2],\n",
       "       [5, 4, 1, 7]])"
      ]
     },
     "execution_count": 86,
     "metadata": {},
     "output_type": "execute_result"
    }
   ],
   "source": [
    "x2"
   ]
  },
  {
   "cell_type": "code",
   "execution_count": 89,
   "id": "5b540f63",
   "metadata": {},
   "outputs": [
    {
     "name": "stdout",
     "output_type": "stream",
     "text": [
      "[2 3 5]\n"
     ]
    }
   ],
   "source": [
    "print(x2[:, 0]) # combine indexing and slicing and print first column of x2"
   ]
  },
  {
   "cell_type": "code",
   "execution_count": 90,
   "id": "3d837f30",
   "metadata": {},
   "outputs": [
    {
     "name": "stdout",
     "output_type": "stream",
     "text": [
      "[6 7 4]\n"
     ]
    }
   ],
   "source": [
    "print(x2[:, 1]) # second column "
   ]
  },
  {
   "cell_type": "code",
   "execution_count": 91,
   "id": "6aa06904",
   "metadata": {},
   "outputs": [
    {
     "name": "stdout",
     "output_type": "stream",
     "text": [
      "[2 6 7 4]\n"
     ]
    }
   ],
   "source": [
    "print(x2[0, :]) # first row of x2"
   ]
  },
  {
   "cell_type": "markdown",
   "id": "6a0b1948",
   "metadata": {},
   "source": [
    "#### Array slicing: No-copy views\n",
    "\n",
    "    Views vs. copies\n",
    "    \n",
    "    ▪ array slices return views rather than copies of the data \n",
    "        → different from Python lists (there, slices are copies)\n",
    "    ▪ if subarrays are changed, the original array is changed as well!\n",
    "        → useful when working with large datasets: you can work on pieces of data without the need to copy\n",
    "          the whole data buffer\n",
    "    ▪ array copies can be created with the .copy() method\n",
    "        → Example: x2[0:2, 1:3].copy()"
   ]
  },
  {
   "cell_type": "code",
   "execution_count": 92,
   "id": "643504fa",
   "metadata": {},
   "outputs": [
    {
     "name": "stdout",
     "output_type": "stream",
     "text": [
      "[[2 6 7 4]\n",
      " [3 7 7 2]\n",
      " [5 4 1 7]]\n"
     ]
    }
   ],
   "source": [
    "# print original array\n",
    "print(x2)"
   ]
  },
  {
   "cell_type": "code",
   "execution_count": 93,
   "id": "6ffd594f",
   "metadata": {},
   "outputs": [
    {
     "data": {
      "text/plain": [
       "array([[2, 6],\n",
       "       [3, 7]])"
      ]
     },
     "execution_count": 93,
     "metadata": {},
     "output_type": "execute_result"
    }
   ],
   "source": [
    "# extract 2x2 subarray\n",
    "\n",
    "x2_sub = x2[:2, :2]\n",
    "x2_sub"
   ]
  },
  {
   "cell_type": "code",
   "execution_count": 95,
   "id": "7944f4b3",
   "metadata": {},
   "outputs": [
    {
     "data": {
      "text/plain": [
       "array([[99,  6],\n",
       "       [ 3,  7]])"
      ]
     },
     "execution_count": 95,
     "metadata": {},
     "output_type": "execute_result"
    }
   ],
   "source": [
    "# modify subarray\n",
    "\n",
    "x2_sub[0,0] = 99\n",
    "x2_sub"
   ]
  },
  {
   "cell_type": "code",
   "execution_count": 97,
   "id": "ef379a11",
   "metadata": {},
   "outputs": [
    {
     "data": {
      "text/plain": [
       "array([[99,  6,  7,  4],\n",
       "       [ 3,  7,  7,  2],\n",
       "       [ 5,  4,  1,  7]])"
      ]
     },
     "execution_count": 97,
     "metadata": {},
     "output_type": "execute_result"
    }
   ],
   "source": [
    "# inspect original array\n",
    "x2 # the first element has been changed to 99 in the original array as well! \n",
    "\n",
    "# so we have to be really cafeful when we change some elements in subarrays, because it will change the origial. "
   ]
  },
  {
   "cell_type": "markdown",
   "id": "2970d87a",
   "metadata": {},
   "source": [
    "### Exercise: \n",
    "\n",
    "     Use the two numpy arrays from the last exercise (firstname and lastname).\n",
    "        → Print all first names!\n",
    "        → Print the first element of the lastname object.\n",
    "        → Print the last element of the lastname object – without explicitly using the last index as number.\n",
    "          Hint: What happens if you put a negative number in square brackets to index a python object?\n",
    "        → Print the second and third element of the lastname object.\n",
    " "
   ]
  },
  {
   "cell_type": "code",
   "execution_count": 103,
   "id": "a1718a07",
   "metadata": {},
   "outputs": [
    {
     "name": "stdout",
     "output_type": "stream",
     "text": [
      "['John' 'Paul' 'George' 'Ringo']\n"
     ]
    },
    {
     "data": {
      "text/plain": [
       "array(['Lennon', 'McCartney', 'Harrison', 'Starr'], dtype='<U9')"
      ]
     },
     "execution_count": 103,
     "metadata": {},
     "output_type": "execute_result"
    }
   ],
   "source": [
    "print(firstname)\n",
    "firstname[::]\n",
    "lastname"
   ]
  },
  {
   "cell_type": "code",
   "execution_count": 101,
   "id": "b493216a",
   "metadata": {},
   "outputs": [
    {
     "data": {
      "text/plain": [
       "'Lennon'"
      ]
     },
     "execution_count": 101,
     "metadata": {},
     "output_type": "execute_result"
    }
   ],
   "source": [
    "lastname[0]"
   ]
  },
  {
   "cell_type": "code",
   "execution_count": 102,
   "id": "e661a765",
   "metadata": {},
   "outputs": [
    {
     "data": {
      "text/plain": [
       "'Starr'"
      ]
     },
     "execution_count": 102,
     "metadata": {},
     "output_type": "execute_result"
    }
   ],
   "source": [
    "lastname[-1]"
   ]
  },
  {
   "cell_type": "code",
   "execution_count": 104,
   "id": "73088240",
   "metadata": {},
   "outputs": [
    {
     "data": {
      "text/plain": [
       "array(['McCartney', 'Harrison'], dtype='<U9')"
      ]
     },
     "execution_count": 104,
     "metadata": {},
     "output_type": "execute_result"
    }
   ],
   "source": [
    "lastname[1:3] \n",
    "\n",
    "# the task is done!"
   ]
  },
  {
   "cell_type": "markdown",
   "id": "59aed1a4",
   "metadata": {},
   "source": [
    "### 2.4 : NumPy Universal Functions (UFuncs)\n",
    "\n",
    "    Using vectorized functions\n",
    "    ▪ often it is useful to use vectorized code instead of functions \n",
    "        → easier to read, often feels more natural, usually way faster\n",
    "    ▪ NumPy provides universal functions for vectorization, almost always more efficient than loops"
   ]
  },
  {
   "cell_type": "code",
   "execution_count": 115,
   "id": "b8361958",
   "metadata": {},
   "outputs": [
    {
     "name": "stdout",
     "output_type": "stream",
     "text": [
      "7.08 µs ± 512 ns per loop (mean ± std. dev. of 7 runs, 100000 loops each)\n",
      "980 ns ± 27 ns per loop (mean ± std. dev. of 7 runs, 1000000 loops each)\n"
     ]
    }
   ],
   "source": [
    "import numpy as np\n",
    "\n",
    "np.random.seed(42)     # for reproducibility\n",
    "\n",
    "\n",
    "def compute_reciprocals(values):\n",
    "    output = np.empty(len(values))\n",
    "    for i in range(len(values)):\n",
    "        output[i] = 1.0 / values[i]\n",
    "    return output \n",
    "\n",
    "data = np.random.randint(0, 10, size=3)\n",
    "data\n",
    "\n",
    "\n",
    "%timeit compute_reciprocals(data)   # computation via loop\n",
    "%timeit 1.0 / data                  # vectorized version \n",
    "\n",
    "# the second version is way faster than the first version!\n",
    "\n",
    "# conclusion: we should use the vectorized version/universal functions!"
   ]
  },
  {
   "cell_type": "markdown",
   "id": "a082757a",
   "metadata": {},
   "source": [
    "#### Often-used universal functions: \n",
    "\n",
    "\n",
    "    Some wrappers for universal functions\n",
    "    \n",
    "    \n",
    "    Operator         Equivalent ufunc     Description\n",
    "    \n",
    "    +                   np.add              Addition (e.g., 1 + 1 = 2)\n",
    "    -                   np.subtract         Subtraction (e.g., 3 - 2 = 1)\n",
    "    -                   np.negative         Unary negation (e.g., -2)\n",
    "    *                   np.multiply         Multiplication (e.g., 2 * 3 = 6)\n",
    "    /                   np.divide           Division (e.g., 3 / 2 = 1.5)\n",
    "    //                  np.floor_divide     Floor division (e.g., 3 // 2 = 1)\n",
    "    **                  np.power            Exponentiation (e.g., 2 ** 3 = 8)\n",
    "    %                   np.mod              Modulus/remainder (e.g., 9 % 4 = 1)\n",
    "    \n",
    "\n",
    "    Other useful universal functions for data science\n",
    "    \n",
    "        ▪ np.absolute, np.sqrt (square root)\n",
    "        ▪ np.sin, np.cos, np.theta (and their inverse pendants np.arcsin, ...)\n",
    "        ▪ np.exp (i. e., e^x), np.exp2 (i. e., 2^1), np.power (e. g., 3^x via np.power(3,x)) \n",
    "        ▪ np.log (ln), np.log2(x), np.log10(x)\n",
    " \n",
    "  \n",
    "  "
   ]
  },
  {
   "cell_type": "markdown",
   "id": "979a1dc9",
   "metadata": {},
   "source": [
    "### Exercise: \n",
    "\n",
    "    → Given any numpy array x, what would the result of the following code be? \n",
    "        np.sqrt(np.exp(np.log(x ** 2)))\n",
    "        \n",
    "    → Which of the following calculations are equivalent to each other? What is different? \n",
    "        \n",
    "        x = np.arange(1,4)\n",
    "        y = np.arange(2,5)\n",
    "        \n",
    "        x+y \n",
    "        sum(x) + sum(y) \n",
    "        np.add(x,y) \n",
    "        x.sum() + y.sum()\n",
    " "
   ]
  },
  {
   "cell_type": "code",
   "execution_count": 118,
   "id": "002e9602",
   "metadata": {},
   "outputs": [
    {
     "data": {
      "text/plain": [
       "array([2, 3, 4, 5])"
      ]
     },
     "execution_count": 118,
     "metadata": {},
     "output_type": "execute_result"
    }
   ],
   "source": [
    "z = np.array ([2, 3, 4, 5])\n",
    "z"
   ]
  },
  {
   "cell_type": "code",
   "execution_count": 121,
   "id": "6c64b0b8",
   "metadata": {},
   "outputs": [
    {
     "data": {
      "text/plain": [
       "array([2., 3., 4., 5.])"
      ]
     },
     "execution_count": 121,
     "metadata": {},
     "output_type": "execute_result"
    }
   ],
   "source": [
    "z1 = np.sqrt(np.exp(np.log(z ** 2)))\n",
    "z1  # same thing ;) !!!"
   ]
  },
  {
   "cell_type": "code",
   "execution_count": 124,
   "id": "b9720bbe",
   "metadata": {},
   "outputs": [
    {
     "data": {
      "text/plain": [
       "(array([1, 2, 3]), array([2, 3, 4]))"
      ]
     },
     "execution_count": 124,
     "metadata": {},
     "output_type": "execute_result"
    }
   ],
   "source": [
    "x = np.arange(1,4)\n",
    "y = np.arange(2,5)\n",
    "x,y"
   ]
  },
  {
   "cell_type": "code",
   "execution_count": 125,
   "id": "3e8d5793",
   "metadata": {},
   "outputs": [
    {
     "data": {
      "text/plain": [
       "array([3, 5, 7])"
      ]
     },
     "execution_count": 125,
     "metadata": {},
     "output_type": "execute_result"
    }
   ],
   "source": [
    "x + y # summation of elements in orders"
   ]
  },
  {
   "cell_type": "code",
   "execution_count": 126,
   "id": "29d2b235",
   "metadata": {},
   "outputs": [
    {
     "data": {
      "text/plain": [
       "15"
      ]
     },
     "execution_count": 126,
     "metadata": {},
     "output_type": "execute_result"
    }
   ],
   "source": [
    "sum(x) + sum(y) # sum of both x and y arrays and then sum of them."
   ]
  },
  {
   "cell_type": "code",
   "execution_count": 127,
   "id": "eefe1aac",
   "metadata": {},
   "outputs": [
    {
     "data": {
      "text/plain": [
       "array([3, 5, 7])"
      ]
     },
     "execution_count": 127,
     "metadata": {},
     "output_type": "execute_result"
    }
   ],
   "source": [
    "np.add(x,y) # this does the same thing with x + y"
   ]
  },
  {
   "cell_type": "code",
   "execution_count": 129,
   "id": "14d6c7c1",
   "metadata": {},
   "outputs": [
    {
     "data": {
      "text/plain": [
       "15"
      ]
     },
     "execution_count": 129,
     "metadata": {},
     "output_type": "execute_result"
    }
   ],
   "source": [
    "x.sum() + y.sum() # this also does the same thing with sum(x) + sum(y)"
   ]
  },
  {
   "cell_type": "markdown",
   "id": "75982a9a",
   "metadata": {},
   "source": [
    "## NumPy Chapter is DONE!"
   ]
  }
 ],
 "metadata": {
  "kernelspec": {
   "display_name": "Python 3",
   "language": "python",
   "name": "python3"
  },
  "language_info": {
   "codemirror_mode": {
    "name": "ipython",
    "version": 3
   },
   "file_extension": ".py",
   "mimetype": "text/x-python",
   "name": "python",
   "nbconvert_exporter": "python",
   "pygments_lexer": "ipython3",
   "version": "3.8.8"
  }
 },
 "nbformat": 4,
 "nbformat_minor": 5
}
