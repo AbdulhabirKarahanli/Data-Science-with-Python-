{
 "cells": [
  {
   "cell_type": "markdown",
   "id": "2d0237ad",
   "metadata": {},
   "source": [
    "# Chapter 6: Machine Learning -------- Part B2\n",
    "\n",
    "    6 | Overview\n",
    "        6.1 What is Machine Learning?\n",
    "        6.2 Scikit-Learn\n",
    "        6.3 Supervised Learning: Classification\n",
    "        6.4 Supervised Learning: Regression\n",
    "        6.5 Unsupervised Learning: Dimension Reduction\n",
    "        6.6 Unsupervised Learning: Clustering"
   ]
  },
  {
   "cell_type": "markdown",
   "id": "899e272c",
   "metadata": {},
   "source": [
    "### In this part we will only focus on 6.4\n",
    "\n",
    "## 6.3: Supervised Learning - Regression\n",
    "\n",
    "### Quick notes: \n",
    "\n",
    "    Predicting numeric data with Linear Regression:\n",
    "    \n",
    "    ▪ linear regression models are a good starting point for regression tasks \n",
    "        → popular because they can be fit very quickly, and are very interpretable\n",
    "    ▪ simple linear regression: straight-line fit to data\n",
    "    ▪ regularized regression (Ridge, LASSO): prevents overfitting by restricting influence of\n",
    "      coefficients (shrinkage)\n",
    "        → parameter lambda (‘alpha’ in functions): higher value → more restriction on the coefficients \n",
    "        → LASSO: can be used for feature selection (coefficients set so zero)"
   ]
  },
  {
   "cell_type": "markdown",
   "id": "6c059113",
   "metadata": {},
   "source": [
    "### Example : Predicting diabetes"
   ]
  },
  {
   "cell_type": "code",
   "execution_count": 65,
   "id": "73798c88",
   "metadata": {},
   "outputs": [],
   "source": [
    "# dataset: diabetes(target: disease progression one year after baseline)\n",
    "\n",
    "from sklearn import datasets\n",
    "diabetes_X, diabetes_y = datasets.load_diabetes(return_X_y=True)\n",
    "\n",
    "# train/test split\n",
    "from sklearn.model_selection import train_test_split\n",
    "\n",
    "diab_X_train, diab_X_test, diab_y_train, diab_y_test = train_test_split(diabetes_X, diabetes_y, test_size=0.3,\n",
    "                                                                       random_state=42)\n",
    "\n"
   ]
  },
  {
   "cell_type": "markdown",
   "id": "76024ab2",
   "metadata": {},
   "source": [
    "### Simple Linear Regression"
   ]
  },
  {
   "cell_type": "code",
   "execution_count": 15,
   "id": "db7fda91",
   "metadata": {},
   "outputs": [
    {
     "data": {
      "text/plain": [
       "2821.7385595843766"
      ]
     },
     "execution_count": 15,
     "metadata": {},
     "output_type": "execute_result"
    }
   ],
   "source": [
    "# create linear reggression model\n",
    "from sklearn.linear_model import LinearRegression\n",
    "regr = LinearRegression()\n",
    "\n",
    "# train the model using the training sets\n",
    "regr.fit(diab_X_train, diab_y_train)\n",
    "\n",
    "# make predictions using the testing set\n",
    "## LinearRegression(copy_X=True, fit_intercept=True, n_jobs=None, normalize=False)\n",
    "diab_y_pred = regr.predict(diab_X_test)\n",
    "\n",
    "from sklearn.metrics import mean_squared_error, r2_score\n",
    "mean_squared_error(diab_y_test, diab_y_pred)\n",
    "\n",
    "# r2_score shows us how much variance can we explain. \n",
    "# as we can see, we have pretty high mean squared error"
   ]
  },
  {
   "cell_type": "code",
   "execution_count": 16,
   "id": "2d8a9e6a",
   "metadata": {},
   "outputs": [
    {
     "data": {
      "text/plain": [
       "0.47729201741573324"
      ]
     },
     "execution_count": 16,
     "metadata": {},
     "output_type": "execute_result"
    }
   ],
   "source": [
    "r2_score(diab_y_test, diab_y_pred) \n",
    "# we only can explian less that 50% of the variance in our outcome variable using such a linear regression"
   ]
  },
  {
   "cell_type": "markdown",
   "id": "11cf1ab9",
   "metadata": {},
   "source": [
    "### Ridge Regression"
   ]
  },
  {
   "cell_type": "code",
   "execution_count": 23,
   "id": "ea6a999b",
   "metadata": {},
   "outputs": [
    {
     "data": {
      "text/plain": [
       "0.1"
      ]
     },
     "execution_count": 23,
     "metadata": {},
     "output_type": "execute_result"
    }
   ],
   "source": [
    "from sklearn.linear_model import Ridge, RidgeCV\n",
    "import numpy as np\n",
    "\n",
    "# find optimal alpha using 10-fold cross validation (cv)\n",
    "np.random.seed(42)\n",
    "ridge_cv = RidgeCV(cv=10, alphas=np.logspace(-6, 6, 13))\n",
    "ridge_cv.fit(diab_X_train, diab_y_train);\n",
    "### RidgeCV(alphas=array([1.e-06, 1.e-05, 1.e-04, 1.e-03, 1.e-02, 1.e-01, 1.e+00, 1.e+01, ### 1.e+02, 1.e+03, 1.e+04, 1.e+05, 1.e+06]),\n",
    "### cv=10, fit_intercept=True, gcv_mode=None, normalize=False, scoring=None,\n",
    "### store_cv_values=False)\n",
    "\n",
    "ridge_cv.alpha_"
   ]
  },
  {
   "cell_type": "code",
   "execution_count": 28,
   "id": "ae64eb92",
   "metadata": {},
   "outputs": [
    {
     "data": {
      "text/plain": [
       "2805.393845841173"
      ]
     },
     "execution_count": 28,
     "metadata": {},
     "output_type": "execute_result"
    }
   ],
   "source": [
    "# use best alpha (i.e., lambda) to train final model\n",
    "\n",
    "ridge = Ridge(alpha=ridge_cv.alpha_)\n",
    "ridge.fit(diab_X_train, diab_y_train)\n",
    "\n",
    "#Ridge(alpha=0.1)\n",
    "\n",
    "diab_y_pred_ridge = ridge.predict(diab_X_test)\n",
    "\n",
    "# evaluate the performance\n",
    "mean_squared_error(diab_y_test, diab_y_pred_ridge)"
   ]
  },
  {
   "cell_type": "code",
   "execution_count": 30,
   "id": "13b23233",
   "metadata": {},
   "outputs": [
    {
     "data": {
      "text/plain": [
       "0.480319765084846"
      ]
     },
     "execution_count": 30,
     "metadata": {},
     "output_type": "execute_result"
    }
   ],
   "source": [
    "r2_score(diab_y_test, diab_y_pred_ridge) # it is 1% better than the linear regression model"
   ]
  },
  {
   "cell_type": "markdown",
   "id": "7d35f268",
   "metadata": {},
   "source": [
    "### LASSO Regression"
   ]
  },
  {
   "cell_type": "code",
   "execution_count": 32,
   "id": "23cf38c2",
   "metadata": {},
   "outputs": [
    {
     "data": {
      "text/plain": [
       "0.005255949654898021"
      ]
     },
     "execution_count": 32,
     "metadata": {},
     "output_type": "execute_result"
    }
   ],
   "source": [
    "from sklearn.linear_model import Lasso, LassoCV\n",
    "\n",
    "# find optinal alpha using 10-fold cross-validation\n",
    "\n",
    "lasso_cv = LassoCV(cv=10, random_state=42)\n",
    "lasso_cv.fit(diab_X_train, diab_y_train);\n",
    "lasso_cv.alpha_   # it is very close to zero"
   ]
  },
  {
   "cell_type": "code",
   "execution_count": 36,
   "id": "7b3df491",
   "metadata": {},
   "outputs": [
    {
     "data": {
      "text/plain": [
       "2816.600161923496"
      ]
     },
     "execution_count": 36,
     "metadata": {},
     "output_type": "execute_result"
    }
   ],
   "source": [
    "# use best alpha (i.e., lambda) to train final model\n",
    "\n",
    "lasso = Lasso(alpha=lasso_cv.alpha_)\n",
    "lasso.fit(diab_X_train, diab_y_train)\n",
    "\n",
    "diab_y_pred_lasso = lasso.predict(diab_X_test)\n",
    "\n",
    "# evaluate the performance\n",
    "\n",
    "mean_squared_error(diab_y_test, diab_y_pred_lasso)"
   ]
  },
  {
   "cell_type": "code",
   "execution_count": 37,
   "id": "e581e607",
   "metadata": {},
   "outputs": [
    {
     "data": {
      "text/plain": [
       "0.4782438708274931"
      ]
     },
     "execution_count": 37,
     "metadata": {},
     "output_type": "execute_result"
    }
   ],
   "source": [
    "r2_score(diab_y_test, diab_y_pred_lasso) # it is same as Linear Regression"
   ]
  },
  {
   "cell_type": "markdown",
   "id": "4fe1c3b1",
   "metadata": {},
   "source": [
    "### Using random forests for regression tasks\n",
    "    ▪ random forests can also be made to work in the case of regression \n",
    "    ▪ estimator to use is RandomForestRegressor"
   ]
  },
  {
   "cell_type": "code",
   "execution_count": 42,
   "id": "7337829a",
   "metadata": {},
   "outputs": [
    {
     "data": {
      "text/plain": [
       "2804.493662030075"
      ]
     },
     "execution_count": 42,
     "metadata": {},
     "output_type": "execute_result"
    }
   ],
   "source": [
    "# import estimator \n",
    "\n",
    "from sklearn.ensemble import RandomForestRegressor\n",
    "# apply the usual steps\n",
    "\n",
    "forest = RandomForestRegressor(n_estimators=200, random_state=42) # make 200 forests\n",
    "forest.fit(diab_X_train, diab_y_train)\n",
    "\n",
    "diab_y_pred_forest = forest.predict(diab_X_test)\n",
    "\n",
    "\n",
    "# evaluate the performance\n",
    "\n",
    "mean_squared_error(diab_y_test, diab_y_pred_forest)"
   ]
  },
  {
   "cell_type": "code",
   "execution_count": 44,
   "id": "47622710",
   "metadata": {},
   "outputs": [
    {
     "data": {
      "text/plain": [
       "0.4804865180472194"
      ]
     },
     "execution_count": 44,
     "metadata": {},
     "output_type": "execute_result"
    }
   ],
   "source": [
    "r2_score(diab_y_test, diab_y_pred_forest) # this is the best among the others. But still not good enough!"
   ]
  },
  {
   "cell_type": "markdown",
   "id": "4d116863",
   "metadata": {},
   "source": [
    "## Exersice: \n",
    "\n",
    "    → Use the dataset used_cars.csv. The dataset includes over 100,000 web-scraped data points from an online advertisement platform.\n",
    "        → Variables include the asking price of used cars, car brand and type, mileage, age, emissions, maintenance certificate, seller type, guarantee, etc.\n",
    "    → Take a random subset of 10,000 cases (to speed up the computation). Pandas’ .sample() method might be helpful here.\n",
    "    → Train a simple regression model that predicts the asking prices of used cars. Evaluate the performance of your model.\n",
    "    → Train a second model using random forests. Can you improve your model performance?\n",
    "\n",
    "    Note: If you want to transform some of the input variables, you might have a look at the\n",
    "    pd.get_dummies() function!\n",
    " \n",
    "  "
   ]
  },
  {
   "cell_type": "code",
   "execution_count": 85,
   "id": "3e698f8b",
   "metadata": {
    "scrolled": true
   },
   "outputs": [
    {
     "data": {
      "text/html": [
       "<div>\n",
       "<style scoped>\n",
       "    .dataframe tbody tr th:only-of-type {\n",
       "        vertical-align: middle;\n",
       "    }\n",
       "\n",
       "    .dataframe tbody tr th {\n",
       "        vertical-align: top;\n",
       "    }\n",
       "\n",
       "    .dataframe thead th {\n",
       "        text-align: right;\n",
       "    }\n",
       "</style>\n",
       "<table border=\"1\" class=\"dataframe\">\n",
       "  <thead>\n",
       "    <tr style=\"text-align: right;\">\n",
       "      <th></th>\n",
       "      <th>diesel</th>\n",
       "      <th>mileage</th>\n",
       "      <th>age_car_years</th>\n",
       "      <th>other_car_owner</th>\n",
       "      <th>pm_green</th>\n",
       "      <th>private_seller</th>\n",
       "      <th>guarantee</th>\n",
       "      <th>inspection</th>\n",
       "      <th>maintenance_cert</th>\n",
       "      <th>co2_em</th>\n",
       "      <th>euro_norm</th>\n",
       "      <th>new_inspection</th>\n",
       "      <th>car_mercedes_c</th>\n",
       "      <th>car_opel_astra</th>\n",
       "      <th>car_vw_golf</th>\n",
       "      <th>car_vw_passat</th>\n",
       "    </tr>\n",
       "  </thead>\n",
       "  <tbody>\n",
       "    <tr>\n",
       "      <th>42263</th>\n",
       "      <td>1</td>\n",
       "      <td>35.000</td>\n",
       "      <td>1.2</td>\n",
       "      <td>2</td>\n",
       "      <td>1</td>\n",
       "      <td>0</td>\n",
       "      <td>0</td>\n",
       "      <td>0</td>\n",
       "      <td>1</td>\n",
       "      <td>103</td>\n",
       "      <td>6</td>\n",
       "      <td>0</td>\n",
       "      <td>0</td>\n",
       "      <td>0</td>\n",
       "      <td>1</td>\n",
       "      <td>0</td>\n",
       "    </tr>\n",
       "    <tr>\n",
       "      <th>43083</th>\n",
       "      <td>1</td>\n",
       "      <td>176.000</td>\n",
       "      <td>6.6</td>\n",
       "      <td>2</td>\n",
       "      <td>1</td>\n",
       "      <td>0</td>\n",
       "      <td>0</td>\n",
       "      <td>0</td>\n",
       "      <td>1</td>\n",
       "      <td>150</td>\n",
       "      <td>5</td>\n",
       "      <td>0</td>\n",
       "      <td>0</td>\n",
       "      <td>0</td>\n",
       "      <td>0</td>\n",
       "      <td>0</td>\n",
       "    </tr>\n",
       "    <tr>\n",
       "      <th>72064</th>\n",
       "      <td>1</td>\n",
       "      <td>193.228</td>\n",
       "      <td>4.2</td>\n",
       "      <td>1</td>\n",
       "      <td>1</td>\n",
       "      <td>0</td>\n",
       "      <td>0</td>\n",
       "      <td>2</td>\n",
       "      <td>1</td>\n",
       "      <td>135</td>\n",
       "      <td>5</td>\n",
       "      <td>1</td>\n",
       "      <td>0</td>\n",
       "      <td>0</td>\n",
       "      <td>0</td>\n",
       "      <td>1</td>\n",
       "    </tr>\n",
       "    <tr>\n",
       "      <th>51462</th>\n",
       "      <td>0</td>\n",
       "      <td>55.975</td>\n",
       "      <td>4.5</td>\n",
       "      <td>1</td>\n",
       "      <td>1</td>\n",
       "      <td>0</td>\n",
       "      <td>0</td>\n",
       "      <td>0</td>\n",
       "      <td>1</td>\n",
       "      <td>165</td>\n",
       "      <td>5</td>\n",
       "      <td>0</td>\n",
       "      <td>0</td>\n",
       "      <td>0</td>\n",
       "      <td>0</td>\n",
       "      <td>1</td>\n",
       "    </tr>\n",
       "    <tr>\n",
       "      <th>34715</th>\n",
       "      <td>1</td>\n",
       "      <td>78.658</td>\n",
       "      <td>5.4</td>\n",
       "      <td>1</td>\n",
       "      <td>1</td>\n",
       "      <td>0</td>\n",
       "      <td>0</td>\n",
       "      <td>2</td>\n",
       "      <td>0</td>\n",
       "      <td>120</td>\n",
       "      <td>5</td>\n",
       "      <td>1</td>\n",
       "      <td>0</td>\n",
       "      <td>0</td>\n",
       "      <td>0</td>\n",
       "      <td>1</td>\n",
       "    </tr>\n",
       "    <tr>\n",
       "      <th>...</th>\n",
       "      <td>...</td>\n",
       "      <td>...</td>\n",
       "      <td>...</td>\n",
       "      <td>...</td>\n",
       "      <td>...</td>\n",
       "      <td>...</td>\n",
       "      <td>...</td>\n",
       "      <td>...</td>\n",
       "      <td>...</td>\n",
       "      <td>...</td>\n",
       "      <td>...</td>\n",
       "      <td>...</td>\n",
       "      <td>...</td>\n",
       "      <td>...</td>\n",
       "      <td>...</td>\n",
       "      <td>...</td>\n",
       "    </tr>\n",
       "    <tr>\n",
       "      <th>21814</th>\n",
       "      <td>0</td>\n",
       "      <td>95.700</td>\n",
       "      <td>3.7</td>\n",
       "      <td>1</td>\n",
       "      <td>1</td>\n",
       "      <td>0</td>\n",
       "      <td>0</td>\n",
       "      <td>1</td>\n",
       "      <td>1</td>\n",
       "      <td>137</td>\n",
       "      <td>5</td>\n",
       "      <td>0</td>\n",
       "      <td>0</td>\n",
       "      <td>0</td>\n",
       "      <td>1</td>\n",
       "      <td>0</td>\n",
       "    </tr>\n",
       "    <tr>\n",
       "      <th>1175</th>\n",
       "      <td>1</td>\n",
       "      <td>161.831</td>\n",
       "      <td>3.6</td>\n",
       "      <td>1</td>\n",
       "      <td>1</td>\n",
       "      <td>0</td>\n",
       "      <td>0</td>\n",
       "      <td>0</td>\n",
       "      <td>1</td>\n",
       "      <td>123</td>\n",
       "      <td>5</td>\n",
       "      <td>0</td>\n",
       "      <td>0</td>\n",
       "      <td>0</td>\n",
       "      <td>0</td>\n",
       "      <td>1</td>\n",
       "    </tr>\n",
       "    <tr>\n",
       "      <th>101181</th>\n",
       "      <td>1</td>\n",
       "      <td>53.174</td>\n",
       "      <td>3.5</td>\n",
       "      <td>1</td>\n",
       "      <td>1</td>\n",
       "      <td>0</td>\n",
       "      <td>0</td>\n",
       "      <td>1</td>\n",
       "      <td>1</td>\n",
       "      <td>124</td>\n",
       "      <td>5</td>\n",
       "      <td>0</td>\n",
       "      <td>1</td>\n",
       "      <td>0</td>\n",
       "      <td>0</td>\n",
       "      <td>0</td>\n",
       "    </tr>\n",
       "    <tr>\n",
       "      <th>161</th>\n",
       "      <td>1</td>\n",
       "      <td>61.940</td>\n",
       "      <td>2.7</td>\n",
       "      <td>1</td>\n",
       "      <td>0</td>\n",
       "      <td>0</td>\n",
       "      <td>0</td>\n",
       "      <td>2</td>\n",
       "      <td>0</td>\n",
       "      <td>127</td>\n",
       "      <td>5</td>\n",
       "      <td>1</td>\n",
       "      <td>1</td>\n",
       "      <td>0</td>\n",
       "      <td>0</td>\n",
       "      <td>0</td>\n",
       "    </tr>\n",
       "    <tr>\n",
       "      <th>83269</th>\n",
       "      <td>1</td>\n",
       "      <td>81.600</td>\n",
       "      <td>2.9</td>\n",
       "      <td>1</td>\n",
       "      <td>1</td>\n",
       "      <td>0</td>\n",
       "      <td>0</td>\n",
       "      <td>1</td>\n",
       "      <td>1</td>\n",
       "      <td>124</td>\n",
       "      <td>5</td>\n",
       "      <td>0</td>\n",
       "      <td>0</td>\n",
       "      <td>0</td>\n",
       "      <td>0</td>\n",
       "      <td>0</td>\n",
       "    </tr>\n",
       "  </tbody>\n",
       "</table>\n",
       "<p>10000 rows × 16 columns</p>\n",
       "</div>"
      ],
      "text/plain": [
       "        diesel  mileage  age_car_years  other_car_owner  pm_green  \\\n",
       "42263        1   35.000            1.2                2         1   \n",
       "43083        1  176.000            6.6                2         1   \n",
       "72064        1  193.228            4.2                1         1   \n",
       "51462        0   55.975            4.5                1         1   \n",
       "34715        1   78.658            5.4                1         1   \n",
       "...        ...      ...            ...              ...       ...   \n",
       "21814        0   95.700            3.7                1         1   \n",
       "1175         1  161.831            3.6                1         1   \n",
       "101181       1   53.174            3.5                1         1   \n",
       "161          1   61.940            2.7                1         0   \n",
       "83269        1   81.600            2.9                1         1   \n",
       "\n",
       "        private_seller  guarantee  inspection  maintenance_cert  co2_em  \\\n",
       "42263                0          0           0                 1     103   \n",
       "43083                0          0           0                 1     150   \n",
       "72064                0          0           2                 1     135   \n",
       "51462                0          0           0                 1     165   \n",
       "34715                0          0           2                 0     120   \n",
       "...                ...        ...         ...               ...     ...   \n",
       "21814                0          0           1                 1     137   \n",
       "1175                 0          0           0                 1     123   \n",
       "101181               0          0           1                 1     124   \n",
       "161                  0          0           2                 0     127   \n",
       "83269                0          0           1                 1     124   \n",
       "\n",
       "        euro_norm  new_inspection  car_mercedes_c  car_opel_astra  \\\n",
       "42263           6               0               0               0   \n",
       "43083           5               0               0               0   \n",
       "72064           5               1               0               0   \n",
       "51462           5               0               0               0   \n",
       "34715           5               1               0               0   \n",
       "...           ...             ...             ...             ...   \n",
       "21814           5               0               0               0   \n",
       "1175            5               0               0               0   \n",
       "101181          5               0               1               0   \n",
       "161             5               1               1               0   \n",
       "83269           5               0               0               0   \n",
       "\n",
       "        car_vw_golf  car_vw_passat  \n",
       "42263             1              0  \n",
       "43083             0              0  \n",
       "72064             0              1  \n",
       "51462             0              1  \n",
       "34715             0              1  \n",
       "...             ...            ...  \n",
       "21814             1              0  \n",
       "1175              0              1  \n",
       "101181            0              0  \n",
       "161               0              0  \n",
       "83269             0              0  \n",
       "\n",
       "[10000 rows x 16 columns]"
      ]
     },
     "execution_count": 85,
     "metadata": {},
     "output_type": "execute_result"
    }
   ],
   "source": [
    "# dataset: used_cars (target: to find asking price)\n",
    "# import libs and data\n",
    "\n",
    "import pandas as pd\n",
    "import numpy as np\n",
    "\n",
    "cars = pd.read_csv('/Users/abdulhabirkarahanli/Desktop/Data/used_cars.csv')\n",
    "\n",
    "cars = cars.sample(10000, random_state=42)\n",
    "cars = pd.get_dummies(cars, columns=['car'], drop_first=True)\n",
    "X = cars.drop(['X', 'first_price'], axis=1)\n",
    "y = cars['first_price']\n",
    "X"
   ]
  },
  {
   "cell_type": "code",
   "execution_count": 89,
   "id": "3e4d0e89",
   "metadata": {},
   "outputs": [
    {
     "data": {
      "text/plain": [
       "12.494152013199416"
      ]
     },
     "execution_count": 89,
     "metadata": {},
     "output_type": "execute_result"
    }
   ],
   "source": [
    "# train/test slpit \n",
    "from sklearn.model_selection import train_test_split\n",
    "car_X_train, car_X_test, car_y_train, car_y_test = train_test_split(X, y, test_size=0.3, random_state=42)\n",
    "\n",
    "# create linear reggression model\n",
    "from sklearn.linear_model import LinearRegression\n",
    "regr = LinearRegression()\n",
    "\n",
    "# train the model using the training sets\n",
    "regr.fit(car_X_train, car_y_train)\n",
    "\n",
    "\n",
    "# make predictions using testing set\n",
    "\n",
    "car_y_pred = regr.predict(car_X_test)\n",
    "\n",
    "\n",
    "# to evaluate our regression model import mean_squared_error and r2_score\n",
    "\n",
    "from sklearn.metrics import mean_squared_error, r2_score\n",
    "\n",
    "mean_squared_error(car_y_test, car_y_pred)"
   ]
  },
  {
   "cell_type": "code",
   "execution_count": 90,
   "id": "da8618e9",
   "metadata": {
    "scrolled": true
   },
   "outputs": [
    {
     "data": {
      "text/plain": [
       "0.7748418338472217"
      ]
     },
     "execution_count": 90,
     "metadata": {},
     "output_type": "execute_result"
    }
   ],
   "source": [
    "r2_score(car_y_test, car_y_pred) # our model is not baddddd !"
   ]
  },
  {
   "cell_type": "markdown",
   "id": "6f5ca5f7",
   "metadata": {},
   "source": [
    "#### Same exercise but with Random Forests"
   ]
  },
  {
   "cell_type": "code",
   "execution_count": 97,
   "id": "71a3ab1d",
   "metadata": {},
   "outputs": [
    {
     "data": {
      "text/plain": [
       "12.494152013199416"
      ]
     },
     "execution_count": 97,
     "metadata": {},
     "output_type": "execute_result"
    }
   ],
   "source": [
    "# import the estimator\n",
    "from sklearn.ensemble import RandomForestRegressor\n",
    "\n",
    "# apply the usual steps\n",
    "\n",
    "forest = RandomForestRegressor(n_estimators=200, random_state=42)\n",
    "forest.fit(car_X_train, car_y_train)\n",
    "\n",
    "car_y_pred_forest = forest.predict(car_X_test)\n",
    "\n",
    "# evaluate the model\n",
    "\n",
    "mean_squared_error(car_y_test, car_y_pred)"
   ]
  },
  {
   "cell_type": "code",
   "execution_count": 99,
   "id": "80e1fe26",
   "metadata": {},
   "outputs": [
    {
     "data": {
      "text/plain": [
       "0.7748418338472217"
      ]
     },
     "execution_count": 99,
     "metadata": {},
     "output_type": "execute_result"
    }
   ],
   "source": [
    "r2_score(car_y_test, car_y_pred) # it is totally same!!!"
   ]
  },
  {
   "cell_type": "markdown",
   "id": "4900f679",
   "metadata": {},
   "source": [
    "### This part ends here!!!"
   ]
  }
 ],
 "metadata": {
  "kernelspec": {
   "display_name": "Python 3",
   "language": "python",
   "name": "python3"
  },
  "language_info": {
   "codemirror_mode": {
    "name": "ipython",
    "version": 3
   },
   "file_extension": ".py",
   "mimetype": "text/x-python",
   "name": "python",
   "nbconvert_exporter": "python",
   "pygments_lexer": "ipython3",
   "version": "3.8.8"
  }
 },
 "nbformat": 4,
 "nbformat_minor": 5
}
