{
 "cells": [
  {
   "cell_type": "markdown",
   "id": "7659df49",
   "metadata": {},
   "source": [
    "# Chapter 6: Machine Learning -------- Part A\n",
    "\n",
    "    6 | Overview\n",
    "        6.1 What is Machine Learning?\n",
    "        6.2 Scikit-Learn\n",
    "        6.3 Supervised Learning: Classification\n",
    "        6.4 Supervised Learning: Regression\n",
    "        6.5 Unsupervised Learning: Dimension Reduction\n",
    "        6.6 Unsupervised Learning: Clustering"
   ]
  },
  {
   "cell_type": "markdown",
   "id": "acc3aa61",
   "metadata": {},
   "source": [
    "## Part A will be about 6.1 and 6.2 \n",
    "\n",
    "### 6.1 is explained in the lecture video and my notes will continue from 6.2: Scikit-Learn\n",
    "\n",
    "\n",
    "### Most of the video lectures of part A was to explain what is a \"Machine Learning\" and how many parts does it have? What kind of tools and methods are we going to use in this chapter and what are the essentials of Scikit-learn in this context is also explained in the video. \n",
    "\n"
   ]
  },
  {
   "cell_type": "markdown",
   "id": "ac8e527f",
   "metadata": {},
   "source": [
    "# Scikit-Learn\n",
    "\n",
    "## Data Representation in Scikit-Learn \n",
    "    Features matrix\n",
    "    ▪ information (data) usually as a two-dimensional numerical array or matrix \n",
    "        → this is called the features matrix\n",
    "        → often stored in a variable named X\n",
    "    ▪ features matrix is assumed to be two-dimensional, with shape [n_samples, n_features]\n",
    "        → most often contained in NumPy array or Pandas DataFrame\n",
    "    ▪ samples (i. e., rows) always refer to the individual objects described by the dataset\n",
    "    \n",
    "    Target array\n",
    "    ▪ outcome variable / label is called target array \n",
    "        → by convention named y\n",
    "    ▪ target array is usually one dimensional, with length n_samples\n",
    "    \n",
    "    \n",
    "## Scikit-Learn’s Estimator API \n",
    "\n",
    "    The Estimator API\n",
    "\n",
    "    ▪ every machine learning algorithm in Scikit-Learn is implemented via the Estimator API \n",
    "    ▪ provides a consistent interface for a wide range of machine learning applications\n",
    "    \n",
    "    Basics of the Estimator API\n",
    "    \n",
    "    1 choose model class by importing the appropriate estimator class from Scikit-Learn\n",
    "    2 choose model hyperparameters (instantiate class with desired values)\n",
    "    3 arrange data into a features matrix and target vector\n",
    "    4 fit the model to your data by calling the .fit() method of the model instance\n",
    "    5 apply the model to new data\n",
    "        → supervised learning: predict labels for unknown data using .predict()\n",
    "        → unsupervised learning: transform or infer properties of the data using .transform() or\n",
    "          .predict()\n",
    "          \n",
    "\n",
    "## Example: Simple linear regression (Supervised Learning) \n",
    "\n",
    "    Simple linear regression example: Data\n",
    "    "
   ]
  },
  {
   "cell_type": "code",
   "execution_count": 7,
   "id": "6782e742",
   "metadata": {},
   "outputs": [
    {
     "data": {
      "image/png": "[encoded data removed]",
      "text/plain": [
       "<Figure size 432x288 with 1 Axes>"
      ]
     },
     "metadata": {
      "needs_background": "light"
     },
     "output_type": "display_data"
    }
   ],
   "source": [
    "# Simple linear regression example: data\n",
    "\n",
    "import matplotlib.pyplot as plt \n",
    "import numpy as np \n",
    "rng = np.random.RandomState(42)\n",
    "\n",
    "# generate some data\n",
    "\n",
    "x = 10 * rng.rand(50)\n",
    "y = 2 * x - 1 + rng.rand(50)\n",
    "\n",
    "plt.scatter(x,y);"
   ]
  },
  {
   "cell_type": "markdown",
   "id": "b581ecf2",
   "metadata": {},
   "source": [
    "### Choose a class of model: Linear Regression"
   ]
  },
  {
   "cell_type": "code",
   "execution_count": 9,
   "id": "750a1cb1",
   "metadata": {},
   "outputs": [],
   "source": [
    "# 'LinearRegression' is a class of 'linear_model'\n",
    "\n",
    "from sklearn.linear_model import LinearRegression"
   ]
  },
  {
   "cell_type": "markdown",
   "id": "3577fa72",
   "metadata": {},
   "source": [
    "### Choose model hyperparameters\n",
    "\n",
    "    ▪ a class of a model is not the same as an instance of a model!\n",
    "    ▪ several choices once the model class is selected (often represented as hyperparameters),\n",
    "      here:\n",
    "        → Would we like to fit for the offset (i.e., intercept)?\n",
    "        → Would we like the model to be normalized?\n",
    "        → Would we like to preprocess our features to add model flexibility? \n",
    "        → What degree of regularization would we like to use in our model? \n",
    "        → How many model components would we  like to use?\n"
   ]
  },
  {
   "cell_type": "code",
   "execution_count": 10,
   "id": "9015db19",
   "metadata": {},
   "outputs": [
    {
     "data": {
      "text/plain": [
       "LinearRegression()"
      ]
     },
     "execution_count": 10,
     "metadata": {},
     "output_type": "execute_result"
    }
   ],
   "source": [
    "model = LinearRegression(fit_intercept=True)\n",
    "model"
   ]
  },
  {
   "cell_type": "markdown",
   "id": "9612e961",
   "metadata": {},
   "source": [
    "### Arrange data into features matrix and target vector"
   ]
  },
  {
   "cell_type": "code",
   "execution_count": 11,
   "id": "0e24a2c1",
   "metadata": {},
   "outputs": [
    {
     "data": {
      "text/plain": [
       "(50,)"
      ]
     },
     "execution_count": 11,
     "metadata": {},
     "output_type": "execute_result"
    }
   ],
   "source": [
    "y.shape"
   ]
  },
  {
   "cell_type": "code",
   "execution_count": 12,
   "id": "28714fe1",
   "metadata": {},
   "outputs": [
    {
     "data": {
      "text/plain": [
       "(50,)"
      ]
     },
     "execution_count": 12,
     "metadata": {},
     "output_type": "execute_result"
    }
   ],
   "source": [
    "x.shape"
   ]
  },
  {
   "cell_type": "code",
   "execution_count": 13,
   "id": "7ac0261d",
   "metadata": {},
   "outputs": [
    {
     "data": {
      "text/plain": [
       "(50, 1)"
      ]
     },
     "execution_count": 13,
     "metadata": {},
     "output_type": "execute_result"
    }
   ],
   "source": [
    "X = x[:, np.newaxis] # add a new axis that shape must be two-dimensional\n",
    "X.shape"
   ]
  },
  {
   "cell_type": "markdown",
   "id": "e2e0fbd1",
   "metadata": {},
   "source": [
    "### Fit the model to your data"
   ]
  },
  {
   "cell_type": "code",
   "execution_count": 14,
   "id": "18790e82",
   "metadata": {},
   "outputs": [
    {
     "data": {
      "text/plain": [
       "LinearRegression()"
      ]
     },
     "execution_count": 14,
     "metadata": {},
     "output_type": "execute_result"
    }
   ],
   "source": [
    "model.fit(X,y)    # X is the features, y is the outcome variable"
   ]
  },
  {
   "cell_type": "markdown",
   "id": "8873809d",
   "metadata": {},
   "source": [
    "        → all model parameters that were learned during .fit() have trailing underscores"
   ]
  },
  {
   "cell_type": "code",
   "execution_count": 15,
   "id": "7a4cf4f6",
   "metadata": {},
   "outputs": [
    {
     "data": {
      "text/plain": [
       "array([2.00660766])"
      ]
     },
     "execution_count": 15,
     "metadata": {},
     "output_type": "execute_result"
    }
   ],
   "source": [
    "# as an example, extract regression coefficient and the intercept:\n",
    "\n",
    "model.coef_"
   ]
  },
  {
   "cell_type": "code",
   "execution_count": 16,
   "id": "25f41543",
   "metadata": {},
   "outputs": [
    {
     "data": {
      "text/plain": [
       "-0.5350275750800026"
      ]
     },
     "execution_count": 16,
     "metadata": {},
     "output_type": "execute_result"
    }
   ],
   "source": [
    " model.intercept_"
   ]
  },
  {
   "cell_type": "markdown",
   "id": "dfed96e8",
   "metadata": {},
   "source": [
    "## Predict labels for unknown data:"
   ]
  },
  {
   "cell_type": "code",
   "execution_count": 19,
   "id": "7346d1e6",
   "metadata": {},
   "outputs": [
    {
     "data": {
      "image/png": "[encoded data removed]",
      "text/plain": [
       "<Figure size 432x288 with 1 Axes>"
      ]
     },
     "metadata": {
      "needs_background": "light"
     },
     "output_type": "display_data"
    }
   ],
   "source": [
    "# generate 'new data':\n",
    "xfit = np.linspace(-1, 11)\n",
    "\n",
    "# transform data:\n",
    "Xfit = xfit[:, np.newaxis]\n",
    "\n",
    "# predict outcome\n",
    "yfit = model.predict(Xfit)\n",
    "\n",
    "# see some results\n",
    "yfit[:10]\n",
    "\n",
    "plt.scatter(x, y)\n",
    "plt.plot(xfit, yfit)\n",
    "plt.show();"
   ]
  },
  {
   "cell_type": "markdown",
   "id": "10ced8dd",
   "metadata": {},
   "source": [
    "### Toy example is done here. \n",
    "\n",
    "## Great example: Penguin calssification"
   ]
  },
  {
   "cell_type": "code",
   "execution_count": 1,
   "id": "e5bb262d",
   "metadata": {},
   "outputs": [
    {
     "data": {
      "text/html": [
       "<div>\n",
       "<style scoped>\n",
       "    .dataframe tbody tr th:only-of-type {\n",
       "        vertical-align: middle;\n",
       "    }\n",
       "\n",
       "    .dataframe tbody tr th {\n",
       "        vertical-align: top;\n",
       "    }\n",
       "\n",
       "    .dataframe thead th {\n",
       "        text-align: right;\n",
       "    }\n",
       "</style>\n",
       "<table border=\"1\" class=\"dataframe\">\n",
       "  <thead>\n",
       "    <tr style=\"text-align: right;\">\n",
       "      <th></th>\n",
       "      <th>species</th>\n",
       "      <th>island</th>\n",
       "      <th>bill_length_mm</th>\n",
       "      <th>bill_depth_mm</th>\n",
       "      <th>flipper_length_mm</th>\n",
       "      <th>body_mass_g</th>\n",
       "      <th>sex</th>\n",
       "      <th>year</th>\n",
       "    </tr>\n",
       "  </thead>\n",
       "  <tbody>\n",
       "    <tr>\n",
       "      <th>0</th>\n",
       "      <td>Adelie</td>\n",
       "      <td>Torgersen</td>\n",
       "      <td>39.1</td>\n",
       "      <td>18.7</td>\n",
       "      <td>181.0</td>\n",
       "      <td>3750.0</td>\n",
       "      <td>male</td>\n",
       "      <td>2007</td>\n",
       "    </tr>\n",
       "    <tr>\n",
       "      <th>1</th>\n",
       "      <td>Adelie</td>\n",
       "      <td>Torgersen</td>\n",
       "      <td>39.5</td>\n",
       "      <td>17.4</td>\n",
       "      <td>186.0</td>\n",
       "      <td>3800.0</td>\n",
       "      <td>female</td>\n",
       "      <td>2007</td>\n",
       "    </tr>\n",
       "    <tr>\n",
       "      <th>2</th>\n",
       "      <td>Adelie</td>\n",
       "      <td>Torgersen</td>\n",
       "      <td>40.3</td>\n",
       "      <td>18.0</td>\n",
       "      <td>195.0</td>\n",
       "      <td>3250.0</td>\n",
       "      <td>female</td>\n",
       "      <td>2007</td>\n",
       "    </tr>\n",
       "    <tr>\n",
       "      <th>3</th>\n",
       "      <td>Adelie</td>\n",
       "      <td>Torgersen</td>\n",
       "      <td>NaN</td>\n",
       "      <td>NaN</td>\n",
       "      <td>NaN</td>\n",
       "      <td>NaN</td>\n",
       "      <td>NaN</td>\n",
       "      <td>2007</td>\n",
       "    </tr>\n",
       "    <tr>\n",
       "      <th>4</th>\n",
       "      <td>Adelie</td>\n",
       "      <td>Torgersen</td>\n",
       "      <td>36.7</td>\n",
       "      <td>19.3</td>\n",
       "      <td>193.0</td>\n",
       "      <td>3450.0</td>\n",
       "      <td>female</td>\n",
       "      <td>2007</td>\n",
       "    </tr>\n",
       "  </tbody>\n",
       "</table>\n",
       "</div>"
      ],
      "text/plain": [
       "  species     island  bill_length_mm  bill_depth_mm  flipper_length_mm  \\\n",
       "0  Adelie  Torgersen            39.1           18.7              181.0   \n",
       "1  Adelie  Torgersen            39.5           17.4              186.0   \n",
       "2  Adelie  Torgersen            40.3           18.0              195.0   \n",
       "3  Adelie  Torgersen             NaN            NaN                NaN   \n",
       "4  Adelie  Torgersen            36.7           19.3              193.0   \n",
       "\n",
       "   body_mass_g     sex  year  \n",
       "0       3750.0    male  2007  \n",
       "1       3800.0  female  2007  \n",
       "2       3250.0  female  2007  \n",
       "3          NaN     NaN  2007  \n",
       "4       3450.0  female  2007  "
      ]
     },
     "execution_count": 1,
     "metadata": {},
     "output_type": "execute_result"
    }
   ],
   "source": [
    "import pandas as pd\n",
    "\n",
    "# palmer penguins dataset\n",
    "\n",
    "penguins = pd.read_csv('/Users/abdulhabirkarahanli/Desktop/Data/penguins.csv')\n",
    "\n",
    "# species: turler. bill_length:gaga uzunlugu. flipper_length: kanat/kol uzunlugu\n",
    "penguins.head()"
   ]
  },
  {
   "cell_type": "markdown",
   "id": "f0b71d3a",
   "metadata": {},
   "source": [
    "## Our goal in this example is to predict the penguin species based on the data we have in our dataset. So we want to have a machine learning model that based on some measurements of a penguin can predict which kind of penguin we have.\n",
    "\n",
    "### How can we do that? We will cover it step by step:\n",
    "\n",
    "#### 1. Step: Data preprocessing\n",
    "    ▪ fill missing values with mean value of variable \n",
    "    ▪ convert categorical data into dummy variables \n",
    "    ▪ split data into features and target"
   ]
  },
  {
   "cell_type": "code",
   "execution_count": 2,
   "id": "7d5b4809",
   "metadata": {},
   "outputs": [
    {
     "data": {
      "text/html": [
       "<div>\n",
       "<style scoped>\n",
       "    .dataframe tbody tr th:only-of-type {\n",
       "        vertical-align: middle;\n",
       "    }\n",
       "\n",
       "    .dataframe tbody tr th {\n",
       "        vertical-align: top;\n",
       "    }\n",
       "\n",
       "    .dataframe thead th {\n",
       "        text-align: right;\n",
       "    }\n",
       "</style>\n",
       "<table border=\"1\" class=\"dataframe\">\n",
       "  <thead>\n",
       "    <tr style=\"text-align: right;\">\n",
       "      <th></th>\n",
       "      <th>species</th>\n",
       "      <th>island</th>\n",
       "      <th>bill_length_mm</th>\n",
       "      <th>bill_depth_mm</th>\n",
       "      <th>flipper_length_mm</th>\n",
       "      <th>body_mass_g</th>\n",
       "      <th>sex</th>\n",
       "      <th>year</th>\n",
       "    </tr>\n",
       "  </thead>\n",
       "  <tbody>\n",
       "    <tr>\n",
       "      <th>0</th>\n",
       "      <td>Adelie</td>\n",
       "      <td>Torgersen</td>\n",
       "      <td>39.1</td>\n",
       "      <td>18.7</td>\n",
       "      <td>181.0</td>\n",
       "      <td>3750.0</td>\n",
       "      <td>male</td>\n",
       "      <td>2007</td>\n",
       "    </tr>\n",
       "    <tr>\n",
       "      <th>1</th>\n",
       "      <td>Adelie</td>\n",
       "      <td>Torgersen</td>\n",
       "      <td>39.5</td>\n",
       "      <td>17.4</td>\n",
       "      <td>186.0</td>\n",
       "      <td>3800.0</td>\n",
       "      <td>female</td>\n",
       "      <td>2007</td>\n",
       "    </tr>\n",
       "    <tr>\n",
       "      <th>2</th>\n",
       "      <td>Adelie</td>\n",
       "      <td>Torgersen</td>\n",
       "      <td>40.3</td>\n",
       "      <td>18.0</td>\n",
       "      <td>195.0</td>\n",
       "      <td>3250.0</td>\n",
       "      <td>female</td>\n",
       "      <td>2007</td>\n",
       "    </tr>\n",
       "    <tr>\n",
       "      <th>3</th>\n",
       "      <td>Adelie</td>\n",
       "      <td>Torgersen</td>\n",
       "      <td>NaN</td>\n",
       "      <td>NaN</td>\n",
       "      <td>NaN</td>\n",
       "      <td>NaN</td>\n",
       "      <td>NaN</td>\n",
       "      <td>2007</td>\n",
       "    </tr>\n",
       "    <tr>\n",
       "      <th>4</th>\n",
       "      <td>Adelie</td>\n",
       "      <td>Torgersen</td>\n",
       "      <td>36.7</td>\n",
       "      <td>19.3</td>\n",
       "      <td>193.0</td>\n",
       "      <td>3450.0</td>\n",
       "      <td>female</td>\n",
       "      <td>2007</td>\n",
       "    </tr>\n",
       "    <tr>\n",
       "      <th>...</th>\n",
       "      <td>...</td>\n",
       "      <td>...</td>\n",
       "      <td>...</td>\n",
       "      <td>...</td>\n",
       "      <td>...</td>\n",
       "      <td>...</td>\n",
       "      <td>...</td>\n",
       "      <td>...</td>\n",
       "    </tr>\n",
       "    <tr>\n",
       "      <th>339</th>\n",
       "      <td>Chinstrap</td>\n",
       "      <td>Dream</td>\n",
       "      <td>55.8</td>\n",
       "      <td>19.8</td>\n",
       "      <td>207.0</td>\n",
       "      <td>4000.0</td>\n",
       "      <td>male</td>\n",
       "      <td>2009</td>\n",
       "    </tr>\n",
       "    <tr>\n",
       "      <th>340</th>\n",
       "      <td>Chinstrap</td>\n",
       "      <td>Dream</td>\n",
       "      <td>43.5</td>\n",
       "      <td>18.1</td>\n",
       "      <td>202.0</td>\n",
       "      <td>3400.0</td>\n",
       "      <td>female</td>\n",
       "      <td>2009</td>\n",
       "    </tr>\n",
       "    <tr>\n",
       "      <th>341</th>\n",
       "      <td>Chinstrap</td>\n",
       "      <td>Dream</td>\n",
       "      <td>49.6</td>\n",
       "      <td>18.2</td>\n",
       "      <td>193.0</td>\n",
       "      <td>3775.0</td>\n",
       "      <td>male</td>\n",
       "      <td>2009</td>\n",
       "    </tr>\n",
       "    <tr>\n",
       "      <th>342</th>\n",
       "      <td>Chinstrap</td>\n",
       "      <td>Dream</td>\n",
       "      <td>50.8</td>\n",
       "      <td>19.0</td>\n",
       "      <td>210.0</td>\n",
       "      <td>4100.0</td>\n",
       "      <td>male</td>\n",
       "      <td>2009</td>\n",
       "    </tr>\n",
       "    <tr>\n",
       "      <th>343</th>\n",
       "      <td>Chinstrap</td>\n",
       "      <td>Dream</td>\n",
       "      <td>50.2</td>\n",
       "      <td>18.7</td>\n",
       "      <td>198.0</td>\n",
       "      <td>3775.0</td>\n",
       "      <td>female</td>\n",
       "      <td>2009</td>\n",
       "    </tr>\n",
       "  </tbody>\n",
       "</table>\n",
       "<p>344 rows × 8 columns</p>\n",
       "</div>"
      ],
      "text/plain": [
       "       species     island  bill_length_mm  bill_depth_mm  flipper_length_mm  \\\n",
       "0       Adelie  Torgersen            39.1           18.7              181.0   \n",
       "1       Adelie  Torgersen            39.5           17.4              186.0   \n",
       "2       Adelie  Torgersen            40.3           18.0              195.0   \n",
       "3       Adelie  Torgersen             NaN            NaN                NaN   \n",
       "4       Adelie  Torgersen            36.7           19.3              193.0   \n",
       "..         ...        ...             ...            ...                ...   \n",
       "339  Chinstrap      Dream            55.8           19.8              207.0   \n",
       "340  Chinstrap      Dream            43.5           18.1              202.0   \n",
       "341  Chinstrap      Dream            49.6           18.2              193.0   \n",
       "342  Chinstrap      Dream            50.8           19.0              210.0   \n",
       "343  Chinstrap      Dream            50.2           18.7              198.0   \n",
       "\n",
       "     body_mass_g     sex  year  \n",
       "0         3750.0    male  2007  \n",
       "1         3800.0  female  2007  \n",
       "2         3250.0  female  2007  \n",
       "3            NaN     NaN  2007  \n",
       "4         3450.0  female  2007  \n",
       "..           ...     ...   ...  \n",
       "339       4000.0    male  2009  \n",
       "340       3400.0  female  2009  \n",
       "341       3775.0    male  2009  \n",
       "342       4100.0    male  2009  \n",
       "343       3775.0  female  2009  \n",
       "\n",
       "[344 rows x 8 columns]"
      ]
     },
     "execution_count": 2,
     "metadata": {},
     "output_type": "execute_result"
    }
   ],
   "source": [
    "penguins"
   ]
  },
  {
   "cell_type": "code",
   "execution_count": 4,
   "id": "2d0920b2",
   "metadata": {},
   "outputs": [
    {
     "data": {
      "text/html": [
       "<div>\n",
       "<style scoped>\n",
       "    .dataframe tbody tr th:only-of-type {\n",
       "        vertical-align: middle;\n",
       "    }\n",
       "\n",
       "    .dataframe tbody tr th {\n",
       "        vertical-align: top;\n",
       "    }\n",
       "\n",
       "    .dataframe thead th {\n",
       "        text-align: right;\n",
       "    }\n",
       "</style>\n",
       "<table border=\"1\" class=\"dataframe\">\n",
       "  <thead>\n",
       "    <tr style=\"text-align: right;\">\n",
       "      <th></th>\n",
       "      <th>species</th>\n",
       "      <th>island</th>\n",
       "      <th>bill_length_mm</th>\n",
       "      <th>bill_depth_mm</th>\n",
       "      <th>flipper_length_mm</th>\n",
       "      <th>body_mass_g</th>\n",
       "      <th>sex</th>\n",
       "      <th>year</th>\n",
       "    </tr>\n",
       "  </thead>\n",
       "  <tbody>\n",
       "    <tr>\n",
       "      <th>0</th>\n",
       "      <td>Adelie</td>\n",
       "      <td>Torgersen</td>\n",
       "      <td>39.10000</td>\n",
       "      <td>18.70000</td>\n",
       "      <td>181.000000</td>\n",
       "      <td>3750.000000</td>\n",
       "      <td>male</td>\n",
       "      <td>2007</td>\n",
       "    </tr>\n",
       "    <tr>\n",
       "      <th>1</th>\n",
       "      <td>Adelie</td>\n",
       "      <td>Torgersen</td>\n",
       "      <td>39.50000</td>\n",
       "      <td>17.40000</td>\n",
       "      <td>186.000000</td>\n",
       "      <td>3800.000000</td>\n",
       "      <td>female</td>\n",
       "      <td>2007</td>\n",
       "    </tr>\n",
       "    <tr>\n",
       "      <th>2</th>\n",
       "      <td>Adelie</td>\n",
       "      <td>Torgersen</td>\n",
       "      <td>40.30000</td>\n",
       "      <td>18.00000</td>\n",
       "      <td>195.000000</td>\n",
       "      <td>3250.000000</td>\n",
       "      <td>female</td>\n",
       "      <td>2007</td>\n",
       "    </tr>\n",
       "    <tr>\n",
       "      <th>3</th>\n",
       "      <td>Adelie</td>\n",
       "      <td>Torgersen</td>\n",
       "      <td>43.92193</td>\n",
       "      <td>17.15117</td>\n",
       "      <td>200.915205</td>\n",
       "      <td>4201.754386</td>\n",
       "      <td>NaN</td>\n",
       "      <td>2007</td>\n",
       "    </tr>\n",
       "    <tr>\n",
       "      <th>4</th>\n",
       "      <td>Adelie</td>\n",
       "      <td>Torgersen</td>\n",
       "      <td>36.70000</td>\n",
       "      <td>19.30000</td>\n",
       "      <td>193.000000</td>\n",
       "      <td>3450.000000</td>\n",
       "      <td>female</td>\n",
       "      <td>2007</td>\n",
       "    </tr>\n",
       "    <tr>\n",
       "      <th>...</th>\n",
       "      <td>...</td>\n",
       "      <td>...</td>\n",
       "      <td>...</td>\n",
       "      <td>...</td>\n",
       "      <td>...</td>\n",
       "      <td>...</td>\n",
       "      <td>...</td>\n",
       "      <td>...</td>\n",
       "    </tr>\n",
       "    <tr>\n",
       "      <th>339</th>\n",
       "      <td>Chinstrap</td>\n",
       "      <td>Dream</td>\n",
       "      <td>55.80000</td>\n",
       "      <td>19.80000</td>\n",
       "      <td>207.000000</td>\n",
       "      <td>4000.000000</td>\n",
       "      <td>male</td>\n",
       "      <td>2009</td>\n",
       "    </tr>\n",
       "    <tr>\n",
       "      <th>340</th>\n",
       "      <td>Chinstrap</td>\n",
       "      <td>Dream</td>\n",
       "      <td>43.50000</td>\n",
       "      <td>18.10000</td>\n",
       "      <td>202.000000</td>\n",
       "      <td>3400.000000</td>\n",
       "      <td>female</td>\n",
       "      <td>2009</td>\n",
       "    </tr>\n",
       "    <tr>\n",
       "      <th>341</th>\n",
       "      <td>Chinstrap</td>\n",
       "      <td>Dream</td>\n",
       "      <td>49.60000</td>\n",
       "      <td>18.20000</td>\n",
       "      <td>193.000000</td>\n",
       "      <td>3775.000000</td>\n",
       "      <td>male</td>\n",
       "      <td>2009</td>\n",
       "    </tr>\n",
       "    <tr>\n",
       "      <th>342</th>\n",
       "      <td>Chinstrap</td>\n",
       "      <td>Dream</td>\n",
       "      <td>50.80000</td>\n",
       "      <td>19.00000</td>\n",
       "      <td>210.000000</td>\n",
       "      <td>4100.000000</td>\n",
       "      <td>male</td>\n",
       "      <td>2009</td>\n",
       "    </tr>\n",
       "    <tr>\n",
       "      <th>343</th>\n",
       "      <td>Chinstrap</td>\n",
       "      <td>Dream</td>\n",
       "      <td>50.20000</td>\n",
       "      <td>18.70000</td>\n",
       "      <td>198.000000</td>\n",
       "      <td>3775.000000</td>\n",
       "      <td>female</td>\n",
       "      <td>2009</td>\n",
       "    </tr>\n",
       "  </tbody>\n",
       "</table>\n",
       "<p>344 rows × 8 columns</p>\n",
       "</div>"
      ],
      "text/plain": [
       "       species     island  bill_length_mm  bill_depth_mm  flipper_length_mm  \\\n",
       "0       Adelie  Torgersen        39.10000       18.70000         181.000000   \n",
       "1       Adelie  Torgersen        39.50000       17.40000         186.000000   \n",
       "2       Adelie  Torgersen        40.30000       18.00000         195.000000   \n",
       "3       Adelie  Torgersen        43.92193       17.15117         200.915205   \n",
       "4       Adelie  Torgersen        36.70000       19.30000         193.000000   \n",
       "..         ...        ...             ...            ...                ...   \n",
       "339  Chinstrap      Dream        55.80000       19.80000         207.000000   \n",
       "340  Chinstrap      Dream        43.50000       18.10000         202.000000   \n",
       "341  Chinstrap      Dream        49.60000       18.20000         193.000000   \n",
       "342  Chinstrap      Dream        50.80000       19.00000         210.000000   \n",
       "343  Chinstrap      Dream        50.20000       18.70000         198.000000   \n",
       "\n",
       "     body_mass_g     sex  year  \n",
       "0    3750.000000    male  2007  \n",
       "1    3800.000000  female  2007  \n",
       "2    3250.000000  female  2007  \n",
       "3    4201.754386     NaN  2007  \n",
       "4    3450.000000  female  2007  \n",
       "..           ...     ...   ...  \n",
       "339  4000.000000    male  2009  \n",
       "340  3400.000000  female  2009  \n",
       "341  3775.000000    male  2009  \n",
       "342  4100.000000    male  2009  \n",
       "343  3775.000000  female  2009  \n",
       "\n",
       "[344 rows x 8 columns]"
      ]
     },
     "execution_count": 4,
     "metadata": {},
     "output_type": "execute_result"
    }
   ],
   "source": [
    "# fill missing values with mean \n",
    "penguins = penguins.fillna(penguins.mean())\n",
    "penguins\n",
    "# covert categorical data into dummy variables\n",
    "\n",
    "\n",
    "\n",
    "## From this part now on, a problem arises about getting dummy variables... \n",
    "\n",
    "# So I will leave it as it is"
   ]
  },
  {
   "cell_type": "code",
   "execution_count": 32,
   "id": "b813caec",
   "metadata": {},
   "outputs": [],
   "source": [
    "### Penguins example is NOT successfully finished!!!"
   ]
  },
  {
   "cell_type": "code",
   "execution_count": null,
   "id": "7d8e42b6",
   "metadata": {},
   "outputs": [],
   "source": []
  },
  {
   "cell_type": "code",
   "execution_count": null,
   "id": "1b923aa6",
   "metadata": {},
   "outputs": [],
   "source": []
  },
  {
   "cell_type": "code",
   "execution_count": null,
   "id": "9413118f",
   "metadata": {},
   "outputs": [],
   "source": []
  },
  {
   "cell_type": "markdown",
   "id": "bdb50f8c",
   "metadata": {},
   "source": [
    "### Missing Data\n",
    "\n",
    "    Data imputation with missing data\n",
    "    ▪ for a baseline imputation approach (i. e., using the mean, median, or most frequent value), Scikit-Learn provides the SimpleImputer class\n",
    "    ▪ for Pandas DataFrames, you can also use the .fillna() method\n"
   ]
  },
  {
   "cell_type": "code",
   "execution_count": 31,
   "id": "11946bce",
   "metadata": {},
   "outputs": [
    {
     "data": {
      "text/plain": [
       "array([[4.5, 0. , 3. ],\n",
       "       [3. , 7. , 9. ],\n",
       "       [3. , 5. , 2. ],\n",
       "       [4. , 5. , 6. ],\n",
       "       [8. , 8. , 1. ]])"
      ]
     },
     "execution_count": 31,
     "metadata": {},
     "output_type": "execute_result"
    }
   ],
   "source": [
    "# Some data with missing values: \n",
    "\n",
    "X = np.array([[np.nan, 0, 3],\n",
    "             [3, 7, 9],\n",
    "             [3, 5, 2],\n",
    "             [4, np.nan, 6],\n",
    "             [8, 8, 1]])\n",
    "X\n",
    "\n",
    "# impute missing values with mean\n",
    "\n",
    "from sklearn.impute import SimpleImputer\n",
    "\n",
    "imp = SimpleImputer(strategy='mean')       # or e.g., 'most_frequent' is also another option\n",
    "\n",
    "# apply the transformation\n",
    "\n",
    "X2 = imp.fit_transform(X)\n",
    "X2"
   ]
  },
  {
   "cell_type": "markdown",
   "id": "d438dd41",
   "metadata": {},
   "source": [
    "### 'Done'   ?"
   ]
  },
  {
   "cell_type": "code",
   "execution_count": null,
   "id": "8e996c5f",
   "metadata": {},
   "outputs": [],
   "source": []
  }
 ],
 "metadata": {
  "kernelspec": {
   "display_name": "Python 3",
   "language": "python",
   "name": "python3"
  },
  "language_info": {
   "codemirror_mode": {
    "name": "ipython",
    "version": 3
   },
   "file_extension": ".py",
   "mimetype": "text/x-python",
   "name": "python",
   "nbconvert_exporter": "python",
   "pygments_lexer": "ipython3",
   "version": "3.8.8"
  }
 },
 "nbformat": 4,
 "nbformat_minor": 5
}
