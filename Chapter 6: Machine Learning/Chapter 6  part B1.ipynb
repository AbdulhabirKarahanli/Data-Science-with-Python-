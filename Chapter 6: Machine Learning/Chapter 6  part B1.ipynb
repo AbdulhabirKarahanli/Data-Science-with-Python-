{
 "cells": [
  {
   "cell_type": "markdown",
   "id": "97310104",
   "metadata": {},
   "source": [
    "# Chapter 6: Machine Learning -------- Part B1\n",
    "\n",
    "    6 | Overview\n",
    "        6.1 What is Machine Learning?\n",
    "        6.2 Scikit-Learn\n",
    "        6.3 Supervised Learning: Classification\n",
    "        6.4 Supervised Learning: Regression\n",
    "        6.5 Unsupervised Learning: Dimension Reduction\n",
    "        6.6 Unsupervised Learning: Clustering"
   ]
  },
  {
   "cell_type": "markdown",
   "id": "d32f6c13",
   "metadata": {},
   "source": [
    "### In this part we will only focus on 6.3\n",
    "\n",
    "## 6.3: Supervised Learning - Classification"
   ]
  },
  {
   "cell_type": "markdown",
   "id": "8acdbe02",
   "metadata": {},
   "source": [
    "## Naive Bayes Classification: \n",
    "\n",
    "    Classification with Naive Bayes\n",
    "    \n",
    "    ▪ Naive Bayes (NB) models: extremely fast and simple classification algorithms, few tunable parameters\n",
    "        → very useful as a quick-and-dirty baseline for a classification problem \n",
    "    ▪ often suitable for very high-dimensional datasets\n",
    "    ▪ make stringent (strict) assumptions about data\n",
    "        → Gaussian Naive Bayes: assumption is that data from each label is drawn from a simple Gaussian   distribution\n",
    "        → Multinomial Naive Bayes: features are assumed to be generated from a simple multinomial distribution\n",
    "\n",
    "\n",
    "    Advantages of Naive Bayes algorithms\n",
    "    \n",
    "    ▪ are extremely fast for both training and prediction \n",
    "    ▪ provide straightforward probabilistic prediction\n",
    "    ▪ are often very easily interpretable\n",
    "    ▪ have very few (if any) tunable parameters\n",
    "    \n",
    "    When to Use Naive Bayes\n",
    "    ▪ Naive Bayes classifiers tend to perform especially well ...\n",
    "        → when the naive assumptions actually match the data (very rare in practice)\n",
    "        → for very well-separated categories, when model complexity is less important \n",
    "        → for very high-dimensional data, when model complexity is less important\n",
    "    ▪ stringent assumptions about data → NB will generally not perform as well as a more complicated model\n",
    "    \n",
    "### Naive Bayes in action : Diagnosing Breast Cancer"
   ]
  },
  {
   "cell_type": "code",
   "execution_count": 135,
   "id": "ef772739",
   "metadata": {},
   "outputs": [],
   "source": [
    "import pandas as pd\n",
    "import matplotlib.pyplot as plt \n",
    "from sklearn.impute import SimpleImputer"
   ]
  },
  {
   "cell_type": "code",
   "execution_count": 85,
   "id": "6d48c841",
   "metadata": {},
   "outputs": [],
   "source": [
    "# load the Wisconsin breast cancer dataset\n",
    "\n",
    "wbcd = pd.read_csv('/Users/abdulhabirkarahanli/Desktop/Data/wisc_bc_data.csv')\n",
    "wbcd.head()\n",
    "\n",
    "# split into features and target, dropping ID column. The reason is that ID is unique indentifier and our \n",
    "# goal is to predict diagnosis based on the other data columns that we have. Every time if we have ID columns,\n",
    "# we should drop it once we are in machine learning. \n",
    "\n",
    "X = wbcd.drop(['id', 'diagnosis'], axis=1)\n",
    "y = wbcd['diagnosis']\n",
    "\n",
    "# scale data (i.e., zero mean and unit variance). Data should have same scales.\n",
    "from sklearn.preprocessing import StandardScaler # or import MinMaxScaler\n",
    "scaler = StandardScaler()\n",
    "X = scaler.fit_transform(X)\n",
    "\n",
    "# train/test split\n",
    "from sklearn.model_selection import train_test_split\n",
    "Xtrain, Xtest, ytrain, ytest = train_test_split(X, y, test_size=0.3, random_state=42) #0.3 means 70 percent of \n",
    "# our data for the training and 30% for the testing. How good our model is performing?\n",
    "\n",
    "# train Gaussian NB model\n",
    "from sklearn.naive_bayes import GaussianNB\n",
    "model = GaussianNB()    # instantiate model\n",
    "model.fit(Xtrain, ytrain)   # fit model to data\n",
    "\n",
    "# GaussianNB(priors=None, var_smoothing=1e-09)\n",
    "y_model = model.predict(Xtest)   # predict on new data. We have to evaluate the model. "
   ]
  },
  {
   "cell_type": "markdown",
   "id": "5cd2ca95",
   "metadata": {},
   "source": [
    "## Notes: Evaluating classification models\n",
    "\n",
    "    Model performance: Confusion matrix (crosstable)\n",
    "    \n",
    "    ▪ True Positives (TP): actual is true, prediction is true (→ correct pred.)\n",
    "    ▪ True Negatives (TN): actual is false, predicted is false (→ correct pred.)\n",
    "    ▪ False Positives (FP): actual is false, predicted is true (→ incorrect pred.) \n",
    "    ▪ False Negatives (FN): actual is true, predicted is false (→ incorrect pred.)\n",
    "        → sklearn.metrics.confusion_matrix(y_true, y_pred)\n",
    "        \n",
    "    1. Model performance: Accuracy\n",
    "    \n",
    "    ▪ good measure when outcome classes in the data are nearly balanced \n",
    "    ▪ should not be used when outcome classes are a majority of one class\n",
    "        → sklearn.metrics.accuracy_score(y_true, y_pred)\n",
    "        \n",
    "    2. Model performance: Precision\n",
    "    ▪ performance with respect to false positives: how many true positives did we caught? \n",
    "        → if focus on minimizing FPs: high precision desirable\n",
    "    → sklearn.metrics.precision_score(y_true, y_pred)\n",
    "    \n",
    "    3. Model performance: Recall or Sensitivity\n",
    "    ▪ performance with respect to false negatives: how many true positives did we miss? \n",
    "        → if focus on minimizing FNs: high recall desirable\n",
    "    → sklearn.metrics.recall_score(y_true, y_pred)\n",
    "    \n",
    "    4. Model performance: Specificity\n",
    "    ▪ opposite of recall\n",
    "    ▪ performance with respect to false positives: how many true negatives did we miss?\n",
    "    → no pre-defined function in scikit-learn (i. e., computation has to be performed manually from confusion matrix)"
   ]
  },
  {
   "cell_type": "code",
   "execution_count": 86,
   "id": "d04cc9f1",
   "metadata": {},
   "outputs": [
    {
     "data": {
      "text/plain": [
       "array([[ 59,   2],\n",
       "       [  7, 103]])"
      ]
     },
     "execution_count": 86,
     "metadata": {},
     "output_type": "execute_result"
    }
   ],
   "source": [
    "# Evaluating model performance: Confusion matrix\n",
    "# Continue to our example: \n",
    "from sklearn.metrics import confusion_matrix\n",
    "confusion_matrix(ytest, y_model, labels=[\"M\", \"B\"]) \n",
    "# Almost every cases are correctly classified whether being malignent or begign. \n",
    "# we have 2 false positive and 7 false negatives"
   ]
  },
  {
   "cell_type": "code",
   "execution_count": 87,
   "id": "e4105b3a",
   "metadata": {},
   "outputs": [
    {
     "data": {
      "text/plain": [
       "0.9473684210526315"
      ]
     },
     "execution_count": 87,
     "metadata": {},
     "output_type": "execute_result"
    }
   ],
   "source": [
    "# What is the overall accuracy? \n",
    "\n",
    "res = confusion_matrix(ytest, y_model, labels=[\"M\", \"B\"])\n",
    "(res[0, 0] + res[1, 1]) / res.sum()   # TP + TN / overall. \n",
    "\n",
    "# So our model is 94% percent accurate which is pretty good model. We can check it with directly estimate accuracy:\n",
    "\n",
    "from sklearn.metrics import accuracy_score\n",
    "accuracy_score(ytest, y_model) # it gives, of course, the same result as in above. "
   ]
  },
  {
   "cell_type": "code",
   "execution_count": 88,
   "id": "7516300c",
   "metadata": {},
   "outputs": [
    {
     "data": {
      "text/plain": [
       "0.6432748538011696"
      ]
     },
     "execution_count": 88,
     "metadata": {},
     "output_type": "execute_result"
    }
   ],
   "source": [
    "# Naive Benchmarks: \n",
    "\n",
    "    # What would have happened if we always predicted benign (i.e., our test would be broken)?\n",
    "    \n",
    "(res[1, 0] + res[1, 1]) / res.sum() \n",
    "\n",
    "# if we have dont have a perfect balanced dataset, it is important to check Naive Benchmark. "
   ]
  },
  {
   "cell_type": "markdown",
   "id": "158fc12e",
   "metadata": {},
   "source": [
    "## Evaluating classification models: Plotting the confusion matrix"
   ]
  },
  {
   "cell_type": "code",
   "execution_count": 89,
   "id": "31c65dfd",
   "metadata": {},
   "outputs": [
    {
     "data": {
      "image/png": "[encoded data removed]",
      "text/plain": [
       "<Figure size 432x288 with 2 Axes>"
      ]
     },
     "metadata": {
      "needs_background": "light"
     },
     "output_type": "display_data"
    }
   ],
   "source": [
    "# easier way to evaluate performance: plot confusion matrix\n",
    "from sklearn.metrics import plot_confusion_matrix\n",
    "plot_confusion_matrix(estimator=model, X=Xtest, y_true=ytest)\n",
    "plt.show()"
   ]
  },
  {
   "cell_type": "markdown",
   "id": "43cad7ef",
   "metadata": {},
   "source": [
    "    ▪ confusion matrix can show normalized values with respect to true values ( 'true' ),\n",
    "    predicted values ( 'pred' ), or as overall percentage ( 'all' )"
   ]
  },
  {
   "cell_type": "code",
   "execution_count": 90,
   "id": "eae91ea8",
   "metadata": {},
   "outputs": [
    {
     "data": {
      "image/png": "[encoded data removed]",
      "text/plain": [
       "<Figure size 432x288 with 2 Axes>"
      ]
     },
     "metadata": {
      "needs_background": "light"
     },
     "output_type": "display_data"
    }
   ],
   "source": [
    "# plot confusion matrix with values normalized w.r.t. the true values\n",
    "\n",
    "plot_confusion_matrix(estimator=model, X=Xtest, y_true=ytest, normalize='true')\n",
    "plt.show()  #it shows the percentage wrt to the true vales"
   ]
  },
  {
   "cell_type": "markdown",
   "id": "b06c6bd9",
   "metadata": {},
   "source": [
    "## Exercise\n",
    "    → Use the votes.csv dataset.\n",
    "         → The dataset contains the voting behavior of congressmen on 16 key votes as well as their\n",
    "          political affiliation.\n",
    "    → Train a Naive Bayes classifier that predicts to which party a congressman belongs based on the 16 key votes. How good is your machine learning model?\n",
    " \n",
    "     "
   ]
  },
  {
   "cell_type": "code",
   "execution_count": 91,
   "id": "6be53b51",
   "metadata": {},
   "outputs": [
    {
     "data": {
      "text/html": [
       "<div>\n",
       "<style scoped>\n",
       "    .dataframe tbody tr th:only-of-type {\n",
       "        vertical-align: middle;\n",
       "    }\n",
       "\n",
       "    .dataframe tbody tr th {\n",
       "        vertical-align: top;\n",
       "    }\n",
       "\n",
       "    .dataframe thead th {\n",
       "        text-align: right;\n",
       "    }\n",
       "</style>\n",
       "<table border=\"1\" class=\"dataframe\">\n",
       "  <thead>\n",
       "    <tr style=\"text-align: right;\">\n",
       "      <th></th>\n",
       "      <th>Class</th>\n",
       "      <th>V1</th>\n",
       "      <th>V2</th>\n",
       "      <th>V3</th>\n",
       "      <th>V4</th>\n",
       "      <th>V5</th>\n",
       "      <th>V6</th>\n",
       "      <th>V7</th>\n",
       "      <th>V8</th>\n",
       "      <th>V9</th>\n",
       "      <th>V10</th>\n",
       "      <th>V11</th>\n",
       "      <th>V12</th>\n",
       "      <th>V13</th>\n",
       "      <th>V14</th>\n",
       "      <th>V15</th>\n",
       "      <th>V16</th>\n",
       "    </tr>\n",
       "  </thead>\n",
       "  <tbody>\n",
       "    <tr>\n",
       "      <th>0</th>\n",
       "      <td>republican</td>\n",
       "      <td>0.0</td>\n",
       "      <td>1.0</td>\n",
       "      <td>0.0</td>\n",
       "      <td>1.0</td>\n",
       "      <td>1.0</td>\n",
       "      <td>1.0</td>\n",
       "      <td>0.0</td>\n",
       "      <td>0.0</td>\n",
       "      <td>0.0</td>\n",
       "      <td>1.0</td>\n",
       "      <td>NaN</td>\n",
       "      <td>1.0</td>\n",
       "      <td>1.0</td>\n",
       "      <td>1.0</td>\n",
       "      <td>0.0</td>\n",
       "      <td>1.0</td>\n",
       "    </tr>\n",
       "    <tr>\n",
       "      <th>1</th>\n",
       "      <td>republican</td>\n",
       "      <td>0.0</td>\n",
       "      <td>1.0</td>\n",
       "      <td>0.0</td>\n",
       "      <td>1.0</td>\n",
       "      <td>1.0</td>\n",
       "      <td>1.0</td>\n",
       "      <td>0.0</td>\n",
       "      <td>0.0</td>\n",
       "      <td>0.0</td>\n",
       "      <td>0.0</td>\n",
       "      <td>0.0</td>\n",
       "      <td>1.0</td>\n",
       "      <td>1.0</td>\n",
       "      <td>1.0</td>\n",
       "      <td>0.0</td>\n",
       "      <td>NaN</td>\n",
       "    </tr>\n",
       "    <tr>\n",
       "      <th>2</th>\n",
       "      <td>democrat</td>\n",
       "      <td>NaN</td>\n",
       "      <td>1.0</td>\n",
       "      <td>1.0</td>\n",
       "      <td>NaN</td>\n",
       "      <td>1.0</td>\n",
       "      <td>1.0</td>\n",
       "      <td>0.0</td>\n",
       "      <td>0.0</td>\n",
       "      <td>0.0</td>\n",
       "      <td>0.0</td>\n",
       "      <td>1.0</td>\n",
       "      <td>0.0</td>\n",
       "      <td>1.0</td>\n",
       "      <td>1.0</td>\n",
       "      <td>0.0</td>\n",
       "      <td>0.0</td>\n",
       "    </tr>\n",
       "    <tr>\n",
       "      <th>3</th>\n",
       "      <td>democrat</td>\n",
       "      <td>0.0</td>\n",
       "      <td>1.0</td>\n",
       "      <td>1.0</td>\n",
       "      <td>0.0</td>\n",
       "      <td>NaN</td>\n",
       "      <td>1.0</td>\n",
       "      <td>0.0</td>\n",
       "      <td>0.0</td>\n",
       "      <td>0.0</td>\n",
       "      <td>0.0</td>\n",
       "      <td>1.0</td>\n",
       "      <td>0.0</td>\n",
       "      <td>1.0</td>\n",
       "      <td>0.0</td>\n",
       "      <td>0.0</td>\n",
       "      <td>1.0</td>\n",
       "    </tr>\n",
       "    <tr>\n",
       "      <th>4</th>\n",
       "      <td>democrat</td>\n",
       "      <td>1.0</td>\n",
       "      <td>1.0</td>\n",
       "      <td>1.0</td>\n",
       "      <td>0.0</td>\n",
       "      <td>1.0</td>\n",
       "      <td>1.0</td>\n",
       "      <td>0.0</td>\n",
       "      <td>0.0</td>\n",
       "      <td>0.0</td>\n",
       "      <td>0.0</td>\n",
       "      <td>1.0</td>\n",
       "      <td>NaN</td>\n",
       "      <td>1.0</td>\n",
       "      <td>1.0</td>\n",
       "      <td>1.0</td>\n",
       "      <td>1.0</td>\n",
       "    </tr>\n",
       "    <tr>\n",
       "      <th>...</th>\n",
       "      <td>...</td>\n",
       "      <td>...</td>\n",
       "      <td>...</td>\n",
       "      <td>...</td>\n",
       "      <td>...</td>\n",
       "      <td>...</td>\n",
       "      <td>...</td>\n",
       "      <td>...</td>\n",
       "      <td>...</td>\n",
       "      <td>...</td>\n",
       "      <td>...</td>\n",
       "      <td>...</td>\n",
       "      <td>...</td>\n",
       "      <td>...</td>\n",
       "      <td>...</td>\n",
       "      <td>...</td>\n",
       "      <td>...</td>\n",
       "    </tr>\n",
       "    <tr>\n",
       "      <th>430</th>\n",
       "      <td>republican</td>\n",
       "      <td>0.0</td>\n",
       "      <td>0.0</td>\n",
       "      <td>1.0</td>\n",
       "      <td>1.0</td>\n",
       "      <td>1.0</td>\n",
       "      <td>1.0</td>\n",
       "      <td>0.0</td>\n",
       "      <td>0.0</td>\n",
       "      <td>1.0</td>\n",
       "      <td>1.0</td>\n",
       "      <td>0.0</td>\n",
       "      <td>1.0</td>\n",
       "      <td>1.0</td>\n",
       "      <td>1.0</td>\n",
       "      <td>0.0</td>\n",
       "      <td>1.0</td>\n",
       "    </tr>\n",
       "    <tr>\n",
       "      <th>431</th>\n",
       "      <td>democrat</td>\n",
       "      <td>0.0</td>\n",
       "      <td>0.0</td>\n",
       "      <td>1.0</td>\n",
       "      <td>0.0</td>\n",
       "      <td>0.0</td>\n",
       "      <td>0.0</td>\n",
       "      <td>1.0</td>\n",
       "      <td>1.0</td>\n",
       "      <td>1.0</td>\n",
       "      <td>1.0</td>\n",
       "      <td>0.0</td>\n",
       "      <td>0.0</td>\n",
       "      <td>0.0</td>\n",
       "      <td>0.0</td>\n",
       "      <td>0.0</td>\n",
       "      <td>1.0</td>\n",
       "    </tr>\n",
       "    <tr>\n",
       "      <th>432</th>\n",
       "      <td>republican</td>\n",
       "      <td>0.0</td>\n",
       "      <td>NaN</td>\n",
       "      <td>0.0</td>\n",
       "      <td>1.0</td>\n",
       "      <td>1.0</td>\n",
       "      <td>1.0</td>\n",
       "      <td>0.0</td>\n",
       "      <td>0.0</td>\n",
       "      <td>0.0</td>\n",
       "      <td>0.0</td>\n",
       "      <td>1.0</td>\n",
       "      <td>1.0</td>\n",
       "      <td>1.0</td>\n",
       "      <td>1.0</td>\n",
       "      <td>0.0</td>\n",
       "      <td>1.0</td>\n",
       "    </tr>\n",
       "    <tr>\n",
       "      <th>433</th>\n",
       "      <td>republican</td>\n",
       "      <td>0.0</td>\n",
       "      <td>0.0</td>\n",
       "      <td>0.0</td>\n",
       "      <td>1.0</td>\n",
       "      <td>1.0</td>\n",
       "      <td>1.0</td>\n",
       "      <td>NaN</td>\n",
       "      <td>NaN</td>\n",
       "      <td>NaN</td>\n",
       "      <td>NaN</td>\n",
       "      <td>0.0</td>\n",
       "      <td>1.0</td>\n",
       "      <td>1.0</td>\n",
       "      <td>1.0</td>\n",
       "      <td>0.0</td>\n",
       "      <td>1.0</td>\n",
       "    </tr>\n",
       "    <tr>\n",
       "      <th>434</th>\n",
       "      <td>republican</td>\n",
       "      <td>0.0</td>\n",
       "      <td>1.0</td>\n",
       "      <td>0.0</td>\n",
       "      <td>1.0</td>\n",
       "      <td>1.0</td>\n",
       "      <td>1.0</td>\n",
       "      <td>0.0</td>\n",
       "      <td>0.0</td>\n",
       "      <td>0.0</td>\n",
       "      <td>1.0</td>\n",
       "      <td>0.0</td>\n",
       "      <td>1.0</td>\n",
       "      <td>1.0</td>\n",
       "      <td>1.0</td>\n",
       "      <td>NaN</td>\n",
       "      <td>0.0</td>\n",
       "    </tr>\n",
       "  </tbody>\n",
       "</table>\n",
       "<p>435 rows × 17 columns</p>\n",
       "</div>"
      ],
      "text/plain": [
       "          Class   V1   V2   V3   V4   V5   V6   V7   V8   V9  V10  V11  V12  \\\n",
       "0    republican  0.0  1.0  0.0  1.0  1.0  1.0  0.0  0.0  0.0  1.0  NaN  1.0   \n",
       "1    republican  0.0  1.0  0.0  1.0  1.0  1.0  0.0  0.0  0.0  0.0  0.0  1.0   \n",
       "2      democrat  NaN  1.0  1.0  NaN  1.0  1.0  0.0  0.0  0.0  0.0  1.0  0.0   \n",
       "3      democrat  0.0  1.0  1.0  0.0  NaN  1.0  0.0  0.0  0.0  0.0  1.0  0.0   \n",
       "4      democrat  1.0  1.0  1.0  0.0  1.0  1.0  0.0  0.0  0.0  0.0  1.0  NaN   \n",
       "..          ...  ...  ...  ...  ...  ...  ...  ...  ...  ...  ...  ...  ...   \n",
       "430  republican  0.0  0.0  1.0  1.0  1.0  1.0  0.0  0.0  1.0  1.0  0.0  1.0   \n",
       "431    democrat  0.0  0.0  1.0  0.0  0.0  0.0  1.0  1.0  1.0  1.0  0.0  0.0   \n",
       "432  republican  0.0  NaN  0.0  1.0  1.0  1.0  0.0  0.0  0.0  0.0  1.0  1.0   \n",
       "433  republican  0.0  0.0  0.0  1.0  1.0  1.0  NaN  NaN  NaN  NaN  0.0  1.0   \n",
       "434  republican  0.0  1.0  0.0  1.0  1.0  1.0  0.0  0.0  0.0  1.0  0.0  1.0   \n",
       "\n",
       "     V13  V14  V15  V16  \n",
       "0    1.0  1.0  0.0  1.0  \n",
       "1    1.0  1.0  0.0  NaN  \n",
       "2    1.0  1.0  0.0  0.0  \n",
       "3    1.0  0.0  0.0  1.0  \n",
       "4    1.0  1.0  1.0  1.0  \n",
       "..   ...  ...  ...  ...  \n",
       "430  1.0  1.0  0.0  1.0  \n",
       "431  0.0  0.0  0.0  1.0  \n",
       "432  1.0  1.0  0.0  1.0  \n",
       "433  1.0  1.0  0.0  1.0  \n",
       "434  1.0  1.0  NaN  0.0  \n",
       "\n",
       "[435 rows x 17 columns]"
      ]
     },
     "execution_count": 91,
     "metadata": {},
     "output_type": "execute_result"
    }
   ],
   "source": [
    "votes = pd.read_csv('/Users/abdulhabirkarahanli/Desktop/Data/votes.csv')\n",
    "votes \n",
    "\n"
   ]
  },
  {
   "cell_type": "code",
   "execution_count": 94,
   "id": "d9653a87",
   "metadata": {},
   "outputs": [],
   "source": [
    "# Split into fearures and target. Our goal is to predict the voters which class they belong to? \n",
    "X1 = votes.drop(['Class'], axis=1)\n",
    "y1 = votes['Class'] #target\n",
    "\n",
    "\n",
    "# Replace the Nans with mean value\n",
    "imp = SimpleImputer(strategy='mean')\n",
    "X2 = imp.fit_transform(X1)\n",
    "X2\n",
    "\n",
    "# Scale data\n",
    "X2 = scaler.fit_transform(X2)\n",
    "\n",
    "# train/test split\n",
    "X2train, X2test, y1train, y1test = train_test_split(X2, y1, test_size=0.3, random_state=42)\n",
    "\n",
    "# train Guassian NB model\n",
    "model = GaussianNB()  # instantiate model \n",
    "model.fit(X2train, y1train) # fit model to data\n",
    "\n",
    "## GaussianNB()\n",
    "y_model = model.predict(X2test)  # predict on new data"
   ]
  },
  {
   "cell_type": "code",
   "execution_count": 98,
   "id": "87216e7d",
   "metadata": {},
   "outputs": [
    {
     "data": {
      "text/plain": [
       "0.9389312977099237"
      ]
     },
     "execution_count": 98,
     "metadata": {},
     "output_type": "execute_result"
    }
   ],
   "source": [
    "accuracy_score(y1test, y_model)    # my model is highly accurate"
   ]
  },
  {
   "cell_type": "code",
   "execution_count": 100,
   "id": "303a21aa",
   "metadata": {},
   "outputs": [
    {
     "data": {
      "image/png": "[encoded data removed]",
      "text/plain": [
       "<Figure size 432x288 with 2 Axes>"
      ]
     },
     "metadata": {
      "needs_background": "light"
     },
     "output_type": "display_data"
    }
   ],
   "source": [
    "# Plot\n",
    "\n",
    "plot_confusion_matrix(estimator=model, X=X2test, y_true=y1test)\n",
    "plt.show()"
   ]
  },
  {
   "cell_type": "code",
   "execution_count": 109,
   "id": "84ba3a80",
   "metadata": {},
   "outputs": [
    {
     "data": {
      "image/png": "[encoded data removed]",
      "text/plain": [
       "<Figure size 432x288 with 2 Axes>"
      ]
     },
     "metadata": {
      "needs_background": "light"
     },
     "output_type": "display_data"
    }
   ],
   "source": [
    "# Lets see what is the % of our model's accuracy? \n",
    "\n",
    "plot_confusion_matrix(estimator=model, X=X2test, y_true=y1test, normalize='true')\n",
    "plt.show()\n",
    "\n",
    "# Exercise is successfully finished!"
   ]
  },
  {
   "cell_type": "markdown",
   "id": "75f8c774",
   "metadata": {},
   "source": [
    "### Decision Trees: Random Forests\n",
    "\n",
    "#### Random Forests in Action:"
   ]
  },
  {
   "cell_type": "code",
   "execution_count": 117,
   "id": "85cc3700",
   "metadata": {},
   "outputs": [
    {
     "data": {
      "text/plain": [
       "0.9707602339181286"
      ]
     },
     "execution_count": 117,
     "metadata": {},
     "output_type": "execute_result"
    }
   ],
   "source": [
    "# we use the breast cancer data from before: \n",
    "Xtrain, Xtest, ytrain, ytest = train_test_split(X, y, test_size=0.3, random_state=42)\n",
    "\n",
    "# import RandomForestClassifier\n",
    "from sklearn.ensemble import RandomForestClassifier\n",
    "\n",
    "model_rf = RandomForestClassifier(n_estimators=100, random_state=12345) #instantiate model\n",
    "model_rf.fit(Xtrain, ytrain)   # fit model to data\n",
    "\n",
    "y_model_rf = model_rf.predict(Xtest)\n",
    "accuracy_score(ytest, y_model_rf) # it is more accurate now!!! There is nothing left to improve!"
   ]
  },
  {
   "cell_type": "markdown",
   "id": "703cefe2",
   "metadata": {},
   "source": [
    "## Exercise: same exercise with random forest\n",
    "\n",
    "    Use the votes.csv dataset from before.\n",
    "    \n",
    "    → Train a Random Forest classifier that predicts to which party a congressman belongs based on the\n",
    "    16 key votes. How good is your machine learning model compared to the Naive Bayes classifier?\n",
    " "
   ]
  },
  {
   "cell_type": "code",
   "execution_count": 124,
   "id": "8b2a56fa",
   "metadata": {},
   "outputs": [],
   "source": [
    "# Copy the codes from above!\n",
    "\n",
    "# Split into fearures and target. Our goal is to predict the voters which class they belong to? \n",
    "X1 = votes.drop(['Class'], axis=1)\n",
    "y1 = votes['Class'] #target\n",
    "\n",
    "\n",
    "# Replace the Nans with mean value\n",
    "imp = SimpleImputer(strategy='mean')\n",
    "X2 = imp.fit_transform(X1)\n",
    "X2\n",
    "\n",
    "# Scale data\n",
    "X2 = scaler.fit_transform(X2)\n",
    "\n",
    "# train/test split\n",
    "X2train, X2test, y1train, y1test = train_test_split(X2, y1, test_size=0.3, random_state=42)\n",
    "\n",
    "# train Guassian NB model\n",
    "model = GaussianNB()  # instantiate model \n",
    "model.fit(X2train, y1train) # fit model to data\n",
    "\n",
    "## GaussianNB()\n",
    "y_model = model.predict(X2test)  # predict on new data"
   ]
  },
  {
   "cell_type": "code",
   "execution_count": 132,
   "id": "eff4cd39",
   "metadata": {},
   "outputs": [
    {
     "data": {
      "text/plain": [
       "0.9770992366412213"
      ]
     },
     "execution_count": 132,
     "metadata": {},
     "output_type": "execute_result"
    }
   ],
   "source": [
    "# here we go!\n",
    "\n",
    "from sklearn.ensemble import RandomForestClassifier\n",
    "\n",
    "model_fr1 = RandomForestClassifier(n_estimators=100, random_state=12343)  # instantiate model\n",
    "model_fr1.fit(X2train, y1train) # fit model to data\n",
    "\n",
    "y_model_rf1 = model_fr1.predict(X2test)\n",
    "\n",
    "# let me check the accuracy score\n",
    "\n",
    "accuracy_score(y1test, y_model_rf1)"
   ]
  },
  {
   "cell_type": "code",
   "execution_count": 133,
   "id": "76803f35",
   "metadata": {},
   "outputs": [],
   "source": [
    "# The model was 93% accurate. But now with RandomForestClassifier its accuracy raised by 4 more percent!!!"
   ]
  },
  {
   "cell_type": "code",
   "execution_count": 134,
   "id": "2599b237",
   "metadata": {},
   "outputs": [],
   "source": [
    "# This part ends here"
   ]
  },
  {
   "cell_type": "code",
   "execution_count": null,
   "id": "4f694cc1",
   "metadata": {},
   "outputs": [],
   "source": []
  },
  {
   "cell_type": "code",
   "execution_count": null,
   "id": "faf958d7",
   "metadata": {},
   "outputs": [],
   "source": []
  }
 ],
 "metadata": {
  "kernelspec": {
   "display_name": "Python 3",
   "language": "python",
   "name": "python3"
  },
  "language_info": {
   "codemirror_mode": {
    "name": "ipython",
    "version": 3
   },
   "file_extension": ".py",
   "mimetype": "text/x-python",
   "name": "python",
   "nbconvert_exporter": "python",
   "pygments_lexer": "ipython3",
   "version": "3.8.8"
  }
 },
 "nbformat": 4,
 "nbformat_minor": 5
}
